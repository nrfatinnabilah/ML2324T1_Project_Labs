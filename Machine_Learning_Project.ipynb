{
  "nbformat": 4,
  "nbformat_minor": 0,
  "metadata": {
    "colab": {
      "provenance": []
    },
    "kernelspec": {
      "name": "python3",
      "display_name": "Python 3"
    },
    "language_info": {
      "name": "python"
    }
  },
  "cells": [
    {
      "cell_type": "code",
      "source": [
        "from google.colab import drive\n",
        "drive.mount('/content/drive')"
      ],
      "metadata": {
        "colab": {
          "base_uri": "https://localhost:8080/"
        },
        "id": "FF2noqHVS_2J",
        "outputId": "fb057893-c6eb-42ca-eb0f-127154b662e5"
      },
      "execution_count": null,
      "outputs": [
        {
          "output_type": "stream",
          "name": "stdout",
          "text": [
            "Mounted at /content/drive\n"
          ]
        }
      ]
    },
    {
      "cell_type": "code",
      "source": [
        "notebook_path = r\"/content/drive/MyDrive/Colab Notebooks\"\n"
      ],
      "metadata": {
        "id": "V9fPb0VWUB2M"
      },
      "execution_count": null,
      "outputs": []
    },
    {
      "cell_type": "code",
      "source": [
        "import os\n",
        "os.chdir(notebook_path)\n",
        "!pwd\n",
        "print(os.getcwd())"
      ],
      "metadata": {
        "id": "MuZwd9MqUG33",
        "colab": {
          "base_uri": "https://localhost:8080/"
        },
        "outputId": "63991913-938e-4d26-fe9d-03008f3b04a2"
      },
      "execution_count": null,
      "outputs": [
        {
          "output_type": "stream",
          "name": "stdout",
          "text": [
            "/content/drive/MyDrive/Colab Notebooks\n",
            "/content/drive/MyDrive/Colab Notebooks\n"
          ]
        }
      ]
    },
    {
      "cell_type": "code",
      "execution_count": null,
      "metadata": {
        "id": "Jt2Tk4b2NpMx"
      },
      "outputs": [],
      "source": [
        "import pandas as pd\n",
        "import numpy as np\n",
        "from sklearn.model_selection import train_test_split\n",
        "from sklearn.neighbors import KNeighborsClassifier\n",
        "from sklearn.preprocessing import StandardScaler, MinMaxScaler\n",
        "from sklearn.decomposition import PCA\n",
        "from sklearn.metrics import accuracy_score, classification_report, confusion_matrix\n",
        "import matplotlib.pyplot as plt\n",
        "import seaborn as sns\n",
        "from sklearn.linear_model import LogisticRegression\n"
      ]
    },
    {
      "cell_type": "code",
      "source": [
        "dataset = pd.read_csv('/content/df_reduced_normalized.csv')"
      ],
      "metadata": {
        "id": "FVzcuvQApo7T"
      },
      "execution_count": null,
      "outputs": []
    },
    {
      "cell_type": "code",
      "source": [
        "print(type(dataset))\n",
        "print(dataset.shape)\n",
        "\n",
        "dataset.describe()"
      ],
      "metadata": {
        "id": "O-togIK7p6X_",
        "colab": {
          "base_uri": "https://localhost:8080/",
          "height": 385
        },
        "outputId": "747e5754-80eb-4120-ad4a-476016168729"
      },
      "execution_count": null,
      "outputs": [
        {
          "output_type": "stream",
          "name": "stdout",
          "text": [
            "<class 'pandas.core.frame.DataFrame'>\n",
            "(20000, 22)\n"
          ]
        },
        {
          "output_type": "execute_result",
          "data": {
            "text/plain": [
              "       Diabetes_binary        HighBP      HighChol     CholCheck  \\\n",
              "count     20000.000000  20000.000000  20000.000000  20000.000000   \n",
              "mean          0.500000      0.542700      0.500350      0.975800   \n",
              "std           0.500013      0.498186      0.500012      0.153673   \n",
              "min           0.000000      0.000000      0.000000      0.000000   \n",
              "25%           0.000000      0.000000      0.000000      1.000000   \n",
              "50%           0.500000      1.000000      1.000000      1.000000   \n",
              "75%           1.000000      1.000000      1.000000      1.000000   \n",
              "max           1.000000      1.000000      1.000000      1.000000   \n",
              "\n",
              "                BMI       Smoker        Stroke  HeartDiseaseorAttack  \\\n",
              "count  20000.000000  20000.00000  20000.000000          20000.000000   \n",
              "mean       0.500370      0.45125      0.047000              0.125700   \n",
              "std        0.172894      0.49763      0.211644              0.331519   \n",
              "min        0.000000      0.00000      0.000000              0.000000   \n",
              "25%        0.375000      0.00000      0.000000              0.000000   \n",
              "50%        0.468750      0.00000      0.000000              0.000000   \n",
              "75%        0.593750      1.00000      0.000000              0.000000   \n",
              "max        1.000000      1.00000      1.000000              1.000000   \n",
              "\n",
              "       PhysActivity        Fruits  ...  AnyHealthcare   NoDocbcCost  \\\n",
              "count  20000.000000  20000.000000  ...   20000.000000  20000.000000   \n",
              "mean       0.756100      0.631700  ...       0.957250      0.063850   \n",
              "std        0.429444      0.482355  ...       0.202298      0.244492   \n",
              "min        0.000000      0.000000  ...       0.000000      0.000000   \n",
              "25%        1.000000      0.000000  ...       1.000000      0.000000   \n",
              "50%        1.000000      1.000000  ...       1.000000      0.000000   \n",
              "75%        1.000000      1.000000  ...       1.000000      0.000000   \n",
              "max        1.000000      1.000000  ...       1.000000      1.000000   \n",
              "\n",
              "            GenHlth      MentHlth      PhysHlth      DiffWalk           Sex  \\\n",
              "count  20000.000000  20000.000000  20000.000000  20000.000000  20000.000000   \n",
              "mean       2.574350      0.100250      0.102757      0.156700      0.484350   \n",
              "std        0.957245      0.246185      0.222097      0.363527      0.499768   \n",
              "min        1.000000      0.000000      0.000000      0.000000      0.000000   \n",
              "25%        2.000000      0.000000      0.000000      0.000000      0.000000   \n",
              "50%        3.000000      0.000000      0.000000      0.000000      0.000000   \n",
              "75%        3.000000      0.000000      0.133333      0.000000      1.000000   \n",
              "max        5.000000      1.000000      1.000000      1.000000      1.000000   \n",
              "\n",
              "                Age     Education        Income  \n",
              "count  20000.000000  20000.000000  20000.000000  \n",
              "mean       8.678150      4.990000      6.000700  \n",
              "std        2.869351      1.009629      2.032463  \n",
              "min        1.000000      1.000000      1.000000  \n",
              "25%        7.000000      4.000000      5.000000  \n",
              "50%        9.000000      5.000000      7.000000  \n",
              "75%       11.000000      6.000000      8.000000  \n",
              "max       13.000000      6.000000      8.000000  \n",
              "\n",
              "[8 rows x 22 columns]"
            ],
            "text/html": [
              "\n",
              "  <div id=\"df-7919b679-fd13-4dc8-894f-d3c4304d7bfd\" class=\"colab-df-container\">\n",
              "    <div>\n",
              "<style scoped>\n",
              "    .dataframe tbody tr th:only-of-type {\n",
              "        vertical-align: middle;\n",
              "    }\n",
              "\n",
              "    .dataframe tbody tr th {\n",
              "        vertical-align: top;\n",
              "    }\n",
              "\n",
              "    .dataframe thead th {\n",
              "        text-align: right;\n",
              "    }\n",
              "</style>\n",
              "<table border=\"1\" class=\"dataframe\">\n",
              "  <thead>\n",
              "    <tr style=\"text-align: right;\">\n",
              "      <th></th>\n",
              "      <th>Diabetes_binary</th>\n",
              "      <th>HighBP</th>\n",
              "      <th>HighChol</th>\n",
              "      <th>CholCheck</th>\n",
              "      <th>BMI</th>\n",
              "      <th>Smoker</th>\n",
              "      <th>Stroke</th>\n",
              "      <th>HeartDiseaseorAttack</th>\n",
              "      <th>PhysActivity</th>\n",
              "      <th>Fruits</th>\n",
              "      <th>...</th>\n",
              "      <th>AnyHealthcare</th>\n",
              "      <th>NoDocbcCost</th>\n",
              "      <th>GenHlth</th>\n",
              "      <th>MentHlth</th>\n",
              "      <th>PhysHlth</th>\n",
              "      <th>DiffWalk</th>\n",
              "      <th>Sex</th>\n",
              "      <th>Age</th>\n",
              "      <th>Education</th>\n",
              "      <th>Income</th>\n",
              "    </tr>\n",
              "  </thead>\n",
              "  <tbody>\n",
              "    <tr>\n",
              "      <th>count</th>\n",
              "      <td>20000.000000</td>\n",
              "      <td>20000.000000</td>\n",
              "      <td>20000.000000</td>\n",
              "      <td>20000.000000</td>\n",
              "      <td>20000.000000</td>\n",
              "      <td>20000.00000</td>\n",
              "      <td>20000.000000</td>\n",
              "      <td>20000.000000</td>\n",
              "      <td>20000.000000</td>\n",
              "      <td>20000.000000</td>\n",
              "      <td>...</td>\n",
              "      <td>20000.000000</td>\n",
              "      <td>20000.000000</td>\n",
              "      <td>20000.000000</td>\n",
              "      <td>20000.000000</td>\n",
              "      <td>20000.000000</td>\n",
              "      <td>20000.000000</td>\n",
              "      <td>20000.000000</td>\n",
              "      <td>20000.000000</td>\n",
              "      <td>20000.000000</td>\n",
              "      <td>20000.000000</td>\n",
              "    </tr>\n",
              "    <tr>\n",
              "      <th>mean</th>\n",
              "      <td>0.500000</td>\n",
              "      <td>0.542700</td>\n",
              "      <td>0.500350</td>\n",
              "      <td>0.975800</td>\n",
              "      <td>0.500370</td>\n",
              "      <td>0.45125</td>\n",
              "      <td>0.047000</td>\n",
              "      <td>0.125700</td>\n",
              "      <td>0.756100</td>\n",
              "      <td>0.631700</td>\n",
              "      <td>...</td>\n",
              "      <td>0.957250</td>\n",
              "      <td>0.063850</td>\n",
              "      <td>2.574350</td>\n",
              "      <td>0.100250</td>\n",
              "      <td>0.102757</td>\n",
              "      <td>0.156700</td>\n",
              "      <td>0.484350</td>\n",
              "      <td>8.678150</td>\n",
              "      <td>4.990000</td>\n",
              "      <td>6.000700</td>\n",
              "    </tr>\n",
              "    <tr>\n",
              "      <th>std</th>\n",
              "      <td>0.500013</td>\n",
              "      <td>0.498186</td>\n",
              "      <td>0.500012</td>\n",
              "      <td>0.153673</td>\n",
              "      <td>0.172894</td>\n",
              "      <td>0.49763</td>\n",
              "      <td>0.211644</td>\n",
              "      <td>0.331519</td>\n",
              "      <td>0.429444</td>\n",
              "      <td>0.482355</td>\n",
              "      <td>...</td>\n",
              "      <td>0.202298</td>\n",
              "      <td>0.244492</td>\n",
              "      <td>0.957245</td>\n",
              "      <td>0.246185</td>\n",
              "      <td>0.222097</td>\n",
              "      <td>0.363527</td>\n",
              "      <td>0.499768</td>\n",
              "      <td>2.869351</td>\n",
              "      <td>1.009629</td>\n",
              "      <td>2.032463</td>\n",
              "    </tr>\n",
              "    <tr>\n",
              "      <th>min</th>\n",
              "      <td>0.000000</td>\n",
              "      <td>0.000000</td>\n",
              "      <td>0.000000</td>\n",
              "      <td>0.000000</td>\n",
              "      <td>0.000000</td>\n",
              "      <td>0.00000</td>\n",
              "      <td>0.000000</td>\n",
              "      <td>0.000000</td>\n",
              "      <td>0.000000</td>\n",
              "      <td>0.000000</td>\n",
              "      <td>...</td>\n",
              "      <td>0.000000</td>\n",
              "      <td>0.000000</td>\n",
              "      <td>1.000000</td>\n",
              "      <td>0.000000</td>\n",
              "      <td>0.000000</td>\n",
              "      <td>0.000000</td>\n",
              "      <td>0.000000</td>\n",
              "      <td>1.000000</td>\n",
              "      <td>1.000000</td>\n",
              "      <td>1.000000</td>\n",
              "    </tr>\n",
              "    <tr>\n",
              "      <th>25%</th>\n",
              "      <td>0.000000</td>\n",
              "      <td>0.000000</td>\n",
              "      <td>0.000000</td>\n",
              "      <td>1.000000</td>\n",
              "      <td>0.375000</td>\n",
              "      <td>0.00000</td>\n",
              "      <td>0.000000</td>\n",
              "      <td>0.000000</td>\n",
              "      <td>1.000000</td>\n",
              "      <td>0.000000</td>\n",
              "      <td>...</td>\n",
              "      <td>1.000000</td>\n",
              "      <td>0.000000</td>\n",
              "      <td>2.000000</td>\n",
              "      <td>0.000000</td>\n",
              "      <td>0.000000</td>\n",
              "      <td>0.000000</td>\n",
              "      <td>0.000000</td>\n",
              "      <td>7.000000</td>\n",
              "      <td>4.000000</td>\n",
              "      <td>5.000000</td>\n",
              "    </tr>\n",
              "    <tr>\n",
              "      <th>50%</th>\n",
              "      <td>0.500000</td>\n",
              "      <td>1.000000</td>\n",
              "      <td>1.000000</td>\n",
              "      <td>1.000000</td>\n",
              "      <td>0.468750</td>\n",
              "      <td>0.00000</td>\n",
              "      <td>0.000000</td>\n",
              "      <td>0.000000</td>\n",
              "      <td>1.000000</td>\n",
              "      <td>1.000000</td>\n",
              "      <td>...</td>\n",
              "      <td>1.000000</td>\n",
              "      <td>0.000000</td>\n",
              "      <td>3.000000</td>\n",
              "      <td>0.000000</td>\n",
              "      <td>0.000000</td>\n",
              "      <td>0.000000</td>\n",
              "      <td>0.000000</td>\n",
              "      <td>9.000000</td>\n",
              "      <td>5.000000</td>\n",
              "      <td>7.000000</td>\n",
              "    </tr>\n",
              "    <tr>\n",
              "      <th>75%</th>\n",
              "      <td>1.000000</td>\n",
              "      <td>1.000000</td>\n",
              "      <td>1.000000</td>\n",
              "      <td>1.000000</td>\n",
              "      <td>0.593750</td>\n",
              "      <td>1.00000</td>\n",
              "      <td>0.000000</td>\n",
              "      <td>0.000000</td>\n",
              "      <td>1.000000</td>\n",
              "      <td>1.000000</td>\n",
              "      <td>...</td>\n",
              "      <td>1.000000</td>\n",
              "      <td>0.000000</td>\n",
              "      <td>3.000000</td>\n",
              "      <td>0.000000</td>\n",
              "      <td>0.133333</td>\n",
              "      <td>0.000000</td>\n",
              "      <td>1.000000</td>\n",
              "      <td>11.000000</td>\n",
              "      <td>6.000000</td>\n",
              "      <td>8.000000</td>\n",
              "    </tr>\n",
              "    <tr>\n",
              "      <th>max</th>\n",
              "      <td>1.000000</td>\n",
              "      <td>1.000000</td>\n",
              "      <td>1.000000</td>\n",
              "      <td>1.000000</td>\n",
              "      <td>1.000000</td>\n",
              "      <td>1.00000</td>\n",
              "      <td>1.000000</td>\n",
              "      <td>1.000000</td>\n",
              "      <td>1.000000</td>\n",
              "      <td>1.000000</td>\n",
              "      <td>...</td>\n",
              "      <td>1.000000</td>\n",
              "      <td>1.000000</td>\n",
              "      <td>5.000000</td>\n",
              "      <td>1.000000</td>\n",
              "      <td>1.000000</td>\n",
              "      <td>1.000000</td>\n",
              "      <td>1.000000</td>\n",
              "      <td>13.000000</td>\n",
              "      <td>6.000000</td>\n",
              "      <td>8.000000</td>\n",
              "    </tr>\n",
              "  </tbody>\n",
              "</table>\n",
              "<p>8 rows × 22 columns</p>\n",
              "</div>\n",
              "    <div class=\"colab-df-buttons\">\n",
              "\n",
              "  <div class=\"colab-df-container\">\n",
              "    <button class=\"colab-df-convert\" onclick=\"convertToInteractive('df-7919b679-fd13-4dc8-894f-d3c4304d7bfd')\"\n",
              "            title=\"Convert this dataframe to an interactive table.\"\n",
              "            style=\"display:none;\">\n",
              "\n",
              "  <svg xmlns=\"http://www.w3.org/2000/svg\" height=\"24px\" viewBox=\"0 -960 960 960\">\n",
              "    <path d=\"M120-120v-720h720v720H120Zm60-500h600v-160H180v160Zm220 220h160v-160H400v160Zm0 220h160v-160H400v160ZM180-400h160v-160H180v160Zm440 0h160v-160H620v160ZM180-180h160v-160H180v160Zm440 0h160v-160H620v160Z\"/>\n",
              "  </svg>\n",
              "    </button>\n",
              "\n",
              "  <style>\n",
              "    .colab-df-container {\n",
              "      display:flex;\n",
              "      gap: 12px;\n",
              "    }\n",
              "\n",
              "    .colab-df-convert {\n",
              "      background-color: #E8F0FE;\n",
              "      border: none;\n",
              "      border-radius: 50%;\n",
              "      cursor: pointer;\n",
              "      display: none;\n",
              "      fill: #1967D2;\n",
              "      height: 32px;\n",
              "      padding: 0 0 0 0;\n",
              "      width: 32px;\n",
              "    }\n",
              "\n",
              "    .colab-df-convert:hover {\n",
              "      background-color: #E2EBFA;\n",
              "      box-shadow: 0px 1px 2px rgba(60, 64, 67, 0.3), 0px 1px 3px 1px rgba(60, 64, 67, 0.15);\n",
              "      fill: #174EA6;\n",
              "    }\n",
              "\n",
              "    .colab-df-buttons div {\n",
              "      margin-bottom: 4px;\n",
              "    }\n",
              "\n",
              "    [theme=dark] .colab-df-convert {\n",
              "      background-color: #3B4455;\n",
              "      fill: #D2E3FC;\n",
              "    }\n",
              "\n",
              "    [theme=dark] .colab-df-convert:hover {\n",
              "      background-color: #434B5C;\n",
              "      box-shadow: 0px 1px 3px 1px rgba(0, 0, 0, 0.15);\n",
              "      filter: drop-shadow(0px 1px 2px rgba(0, 0, 0, 0.3));\n",
              "      fill: #FFFFFF;\n",
              "    }\n",
              "  </style>\n",
              "\n",
              "    <script>\n",
              "      const buttonEl =\n",
              "        document.querySelector('#df-7919b679-fd13-4dc8-894f-d3c4304d7bfd button.colab-df-convert');\n",
              "      buttonEl.style.display =\n",
              "        google.colab.kernel.accessAllowed ? 'block' : 'none';\n",
              "\n",
              "      async function convertToInteractive(key) {\n",
              "        const element = document.querySelector('#df-7919b679-fd13-4dc8-894f-d3c4304d7bfd');\n",
              "        const dataTable =\n",
              "          await google.colab.kernel.invokeFunction('convertToInteractive',\n",
              "                                                    [key], {});\n",
              "        if (!dataTable) return;\n",
              "\n",
              "        const docLinkHtml = 'Like what you see? Visit the ' +\n",
              "          '<a target=\"_blank\" href=https://colab.research.google.com/notebooks/data_table.ipynb>data table notebook</a>'\n",
              "          + ' to learn more about interactive tables.';\n",
              "        element.innerHTML = '';\n",
              "        dataTable['output_type'] = 'display_data';\n",
              "        await google.colab.output.renderOutput(dataTable, element);\n",
              "        const docLink = document.createElement('div');\n",
              "        docLink.innerHTML = docLinkHtml;\n",
              "        element.appendChild(docLink);\n",
              "      }\n",
              "    </script>\n",
              "  </div>\n",
              "\n",
              "\n",
              "<div id=\"df-3e14e61b-f902-4ac7-8bc0-9661a789feb4\">\n",
              "  <button class=\"colab-df-quickchart\" onclick=\"quickchart('df-3e14e61b-f902-4ac7-8bc0-9661a789feb4')\"\n",
              "            title=\"Suggest charts\"\n",
              "            style=\"display:none;\">\n",
              "\n",
              "<svg xmlns=\"http://www.w3.org/2000/svg\" height=\"24px\"viewBox=\"0 0 24 24\"\n",
              "     width=\"24px\">\n",
              "    <g>\n",
              "        <path d=\"M19 3H5c-1.1 0-2 .9-2 2v14c0 1.1.9 2 2 2h14c1.1 0 2-.9 2-2V5c0-1.1-.9-2-2-2zM9 17H7v-7h2v7zm4 0h-2V7h2v10zm4 0h-2v-4h2v4z\"/>\n",
              "    </g>\n",
              "</svg>\n",
              "  </button>\n",
              "\n",
              "<style>\n",
              "  .colab-df-quickchart {\n",
              "      --bg-color: #E8F0FE;\n",
              "      --fill-color: #1967D2;\n",
              "      --hover-bg-color: #E2EBFA;\n",
              "      --hover-fill-color: #174EA6;\n",
              "      --disabled-fill-color: #AAA;\n",
              "      --disabled-bg-color: #DDD;\n",
              "  }\n",
              "\n",
              "  [theme=dark] .colab-df-quickchart {\n",
              "      --bg-color: #3B4455;\n",
              "      --fill-color: #D2E3FC;\n",
              "      --hover-bg-color: #434B5C;\n",
              "      --hover-fill-color: #FFFFFF;\n",
              "      --disabled-bg-color: #3B4455;\n",
              "      --disabled-fill-color: #666;\n",
              "  }\n",
              "\n",
              "  .colab-df-quickchart {\n",
              "    background-color: var(--bg-color);\n",
              "    border: none;\n",
              "    border-radius: 50%;\n",
              "    cursor: pointer;\n",
              "    display: none;\n",
              "    fill: var(--fill-color);\n",
              "    height: 32px;\n",
              "    padding: 0;\n",
              "    width: 32px;\n",
              "  }\n",
              "\n",
              "  .colab-df-quickchart:hover {\n",
              "    background-color: var(--hover-bg-color);\n",
              "    box-shadow: 0 1px 2px rgba(60, 64, 67, 0.3), 0 1px 3px 1px rgba(60, 64, 67, 0.15);\n",
              "    fill: var(--button-hover-fill-color);\n",
              "  }\n",
              "\n",
              "  .colab-df-quickchart-complete:disabled,\n",
              "  .colab-df-quickchart-complete:disabled:hover {\n",
              "    background-color: var(--disabled-bg-color);\n",
              "    fill: var(--disabled-fill-color);\n",
              "    box-shadow: none;\n",
              "  }\n",
              "\n",
              "  .colab-df-spinner {\n",
              "    border: 2px solid var(--fill-color);\n",
              "    border-color: transparent;\n",
              "    border-bottom-color: var(--fill-color);\n",
              "    animation:\n",
              "      spin 1s steps(1) infinite;\n",
              "  }\n",
              "\n",
              "  @keyframes spin {\n",
              "    0% {\n",
              "      border-color: transparent;\n",
              "      border-bottom-color: var(--fill-color);\n",
              "      border-left-color: var(--fill-color);\n",
              "    }\n",
              "    20% {\n",
              "      border-color: transparent;\n",
              "      border-left-color: var(--fill-color);\n",
              "      border-top-color: var(--fill-color);\n",
              "    }\n",
              "    30% {\n",
              "      border-color: transparent;\n",
              "      border-left-color: var(--fill-color);\n",
              "      border-top-color: var(--fill-color);\n",
              "      border-right-color: var(--fill-color);\n",
              "    }\n",
              "    40% {\n",
              "      border-color: transparent;\n",
              "      border-right-color: var(--fill-color);\n",
              "      border-top-color: var(--fill-color);\n",
              "    }\n",
              "    60% {\n",
              "      border-color: transparent;\n",
              "      border-right-color: var(--fill-color);\n",
              "    }\n",
              "    80% {\n",
              "      border-color: transparent;\n",
              "      border-right-color: var(--fill-color);\n",
              "      border-bottom-color: var(--fill-color);\n",
              "    }\n",
              "    90% {\n",
              "      border-color: transparent;\n",
              "      border-bottom-color: var(--fill-color);\n",
              "    }\n",
              "  }\n",
              "</style>\n",
              "\n",
              "  <script>\n",
              "    async function quickchart(key) {\n",
              "      const quickchartButtonEl =\n",
              "        document.querySelector('#' + key + ' button');\n",
              "      quickchartButtonEl.disabled = true;  // To prevent multiple clicks.\n",
              "      quickchartButtonEl.classList.add('colab-df-spinner');\n",
              "      try {\n",
              "        const charts = await google.colab.kernel.invokeFunction(\n",
              "            'suggestCharts', [key], {});\n",
              "      } catch (error) {\n",
              "        console.error('Error during call to suggestCharts:', error);\n",
              "      }\n",
              "      quickchartButtonEl.classList.remove('colab-df-spinner');\n",
              "      quickchartButtonEl.classList.add('colab-df-quickchart-complete');\n",
              "    }\n",
              "    (() => {\n",
              "      let quickchartButtonEl =\n",
              "        document.querySelector('#df-3e14e61b-f902-4ac7-8bc0-9661a789feb4 button');\n",
              "      quickchartButtonEl.style.display =\n",
              "        google.colab.kernel.accessAllowed ? 'block' : 'none';\n",
              "    })();\n",
              "  </script>\n",
              "</div>\n",
              "    </div>\n",
              "  </div>\n"
            ],
            "application/vnd.google.colaboratory.intrinsic+json": {
              "type": "dataframe"
            }
          },
          "metadata": {},
          "execution_count": 6
        }
      ]
    },
    {
      "cell_type": "markdown",
      "source": [
        "### **EDA**"
      ],
      "metadata": {
        "id": "lZEcZIa0Ay8e"
      }
    },
    {
      "cell_type": "code",
      "source": [
        "summary = dataset.describe()\n",
        "print(\"Summary Statistics:\")\n",
        "print(summary)"
      ],
      "metadata": {
        "colab": {
          "base_uri": "https://localhost:8080/"
        },
        "id": "2G__nnKXA-pn",
        "outputId": "550e6af8-54e0-4fde-f1db-86917c4d462c"
      },
      "execution_count": null,
      "outputs": [
        {
          "output_type": "stream",
          "name": "stdout",
          "text": [
            "Summary Statistics:\n",
            "       Diabetes_binary        HighBP      HighChol     CholCheck  \\\n",
            "count     20000.000000  20000.000000  20000.000000  20000.000000   \n",
            "mean          0.500000      0.542700      0.500350      0.975800   \n",
            "std           0.500013      0.498186      0.500012      0.153673   \n",
            "min           0.000000      0.000000      0.000000      0.000000   \n",
            "25%           0.000000      0.000000      0.000000      1.000000   \n",
            "50%           0.500000      1.000000      1.000000      1.000000   \n",
            "75%           1.000000      1.000000      1.000000      1.000000   \n",
            "max           1.000000      1.000000      1.000000      1.000000   \n",
            "\n",
            "                BMI       Smoker        Stroke  HeartDiseaseorAttack  \\\n",
            "count  20000.000000  20000.00000  20000.000000          20000.000000   \n",
            "mean       0.500370      0.45125      0.047000              0.125700   \n",
            "std        0.172894      0.49763      0.211644              0.331519   \n",
            "min        0.000000      0.00000      0.000000              0.000000   \n",
            "25%        0.375000      0.00000      0.000000              0.000000   \n",
            "50%        0.468750      0.00000      0.000000              0.000000   \n",
            "75%        0.593750      1.00000      0.000000              0.000000   \n",
            "max        1.000000      1.00000      1.000000              1.000000   \n",
            "\n",
            "       PhysActivity        Fruits  ...  AnyHealthcare   NoDocbcCost  \\\n",
            "count  20000.000000  20000.000000  ...   20000.000000  20000.000000   \n",
            "mean       0.756100      0.631700  ...       0.957250      0.063850   \n",
            "std        0.429444      0.482355  ...       0.202298      0.244492   \n",
            "min        0.000000      0.000000  ...       0.000000      0.000000   \n",
            "25%        1.000000      0.000000  ...       1.000000      0.000000   \n",
            "50%        1.000000      1.000000  ...       1.000000      0.000000   \n",
            "75%        1.000000      1.000000  ...       1.000000      0.000000   \n",
            "max        1.000000      1.000000  ...       1.000000      1.000000   \n",
            "\n",
            "            GenHlth      MentHlth      PhysHlth      DiffWalk           Sex  \\\n",
            "count  20000.000000  20000.000000  20000.000000  20000.000000  20000.000000   \n",
            "mean       2.574350      0.100250      0.102757      0.156700      0.484350   \n",
            "std        0.957245      0.246185      0.222097      0.363527      0.499768   \n",
            "min        1.000000      0.000000      0.000000      0.000000      0.000000   \n",
            "25%        2.000000      0.000000      0.000000      0.000000      0.000000   \n",
            "50%        3.000000      0.000000      0.000000      0.000000      0.000000   \n",
            "75%        3.000000      0.000000      0.133333      0.000000      1.000000   \n",
            "max        5.000000      1.000000      1.000000      1.000000      1.000000   \n",
            "\n",
            "                Age     Education        Income  \n",
            "count  20000.000000  20000.000000  20000.000000  \n",
            "mean       8.678150      4.990000      6.000700  \n",
            "std        2.869351      1.009629      2.032463  \n",
            "min        1.000000      1.000000      1.000000  \n",
            "25%        7.000000      4.000000      5.000000  \n",
            "50%        9.000000      5.000000      7.000000  \n",
            "75%       11.000000      6.000000      8.000000  \n",
            "max       13.000000      6.000000      8.000000  \n",
            "\n",
            "[8 rows x 22 columns]\n"
          ]
        }
      ]
    },
    {
      "cell_type": "code",
      "source": [
        "# Select the variable to plot\n",
        "variable_to_plot = 'HeartDiseaseorAttack'\n",
        "\n",
        "# Count the occurrences of each category in the variable\n",
        "counts = dataset[variable_to_plot].value_counts()\n",
        "\n",
        "# Create a pie chart\n",
        "plt.figure(figsize=(6, 6))\n",
        "plt.pie(counts, labels=counts.index, autopct='%1.1f%%', startangle=140)\n",
        "plt.title('Distribution of {}'.format(variable_to_plot))\n",
        "plt.axis('equal')  # Equal aspect ratio ensures that pie is drawn as a circle.\n",
        "plt.show()"
      ],
      "metadata": {
        "colab": {
          "base_uri": "https://localhost:8080/",
          "height": 521
        },
        "id": "39VCyYBuBLA4",
        "outputId": "30cab336-4ff0-4635-8ad5-aa39262d65e1"
      },
      "execution_count": null,
      "outputs": [
        {
          "output_type": "display_data",
          "data": {
            "text/plain": [
              "<Figure size 600x600 with 1 Axes>"
            ],
            "image/png": "[encoded data removed]"
          },
          "metadata": {}
        }
      ]
    },
    {
      "cell_type": "code",
      "source": [
        "# Selecting the first few variables\n",
        "variables = dataset.columns[:5]\n",
        "\n",
        "# Creating bar charts for the selected variables\n",
        "for var in variables:\n",
        "    plt.figure(figsize=(8, 6))\n",
        "    dataset[var].value_counts().plot(kind='bar', color='skyblue')\n",
        "    plt.title(f'Bar Chart of {var}')\n",
        "    plt.xlabel(var)\n",
        "    plt.ylabel('Frequency')\n",
        "    plt.xticks(rotation=45)\n",
        "    plt.grid(axis='y')\n",
        "    plt.show()"
      ],
      "metadata": {
        "colab": {
          "base_uri": "https://localhost:8080/",
          "height": 1000
        },
        "id": "c2w3FEQuBYbh",
        "outputId": "1717158d-4474-4135-b366-852a2bd876f1"
      },
      "execution_count": null,
      "outputs": [
        {
          "output_type": "display_data",
          "data": {
            "text/plain": [
              "<Figure size 800x600 with 1 Axes>"
            ],
            "image/png": "[encoded data removed]"
          },
          "metadata": {}
        },
        {
          "output_type": "display_data",
          "data": {
            "text/plain": [
              "<Figure size 800x600 with 1 Axes>"
            ],
            "image/png": "[encoded data removed]"
          },
          "metadata": {}
        },
        {
          "output_type": "display_data",
          "data": {
            "text/plain": [
              "<Figure size 800x600 with 1 Axes>"
            ],
            "image/png": "[encoded data removed]"
          },
          "metadata": {}
        },
        {
          "output_type": "display_data",
          "data": {
            "text/plain": [
              "<Figure size 800x600 with 1 Axes>"
            ],
            "image/png": "[encoded data removed]"
          },
          "metadata": {}
        },
        {
          "output_type": "display_data",
          "data": {
            "text/plain": [
              "<Figure size 800x600 with 1 Axes>"
            ],
            "image/png": "[encoded data removed]"
          },
          "metadata": {}
        }
      ]
    },
    {
      "cell_type": "code",
      "source": [
        "# Correlation heatmap\n",
        "plt.figure(figsize=(12, 10))\n",
        "sns.heatmap(dataset.iloc[:, :5].corr(), annot=True, cmap='coolwarm', fmt=\".2f\")\n",
        "plt.title('Correlation Heatmap')\n",
        "plt.show()"
      ],
      "metadata": {
        "colab": {
          "base_uri": "https://localhost:8080/",
          "height": 746
        },
        "id": "7guG_smCBoAx",
        "outputId": "d5d730c6-25ae-4644-b467-390c6b4608c7"
      },
      "execution_count": null,
      "outputs": [
        {
          "output_type": "display_data",
          "data": {
            "text/plain": [
              "<Figure size 1200x1000 with 2 Axes>"
            ],
            "image/png": "[encoded data removed]"
          },
          "metadata": {}
        }
      ]
    },
    {
      "cell_type": "code",
      "source": [
        "scaler = StandardScaler()\n",
        "features_to_scale = dataset.columns.drop('Diabetes_binary')\n",
        "dataset[features_to_scale] = scaler.fit_transform(dataset[features_to_scale])"
      ],
      "metadata": {
        "id": "wzREaJWh4h52"
      },
      "execution_count": null,
      "outputs": []
    },
    {
      "cell_type": "code",
      "source": [
        "# Distribution of Target Variable\n",
        "plt.figure(figsize=(8, 6))\n",
        "sns.countplot(x='Diabetes_binary', data=dataset)\n",
        "plt.title(\"Distribution of Target Variable\")\n",
        "plt.show()"
      ],
      "metadata": {
        "id": "TBwv7lMuXuO4",
        "colab": {
          "base_uri": "https://localhost:8080/",
          "height": 564
        },
        "outputId": "27f4574e-14da-45a3-8401-ac2f29b7052d"
      },
      "execution_count": null,
      "outputs": [
        {
          "output_type": "display_data",
          "data": {
            "text/plain": [
              "<Figure size 800x600 with 1 Axes>"
            ],
            "image/png": "[encoded data removed]"
          },
          "metadata": {}
        }
      ]
    },
    {
      "cell_type": "code",
      "source": [
        "# Feature Importance\n",
        "from sklearn.ensemble import RandomForestClassifier\n",
        "\n",
        "X = dataset.drop('Diabetes_binary', axis=1)\n",
        "y = dataset['Diabetes_binary']\n",
        "\n",
        "rf = RandomForestClassifier()\n",
        "rf.fit(X, y)\n",
        "\n",
        "feature_importances = pd.Series(rf.feature_importances_, index=X.columns)\n",
        "feature_importances.nlargest(10).plot(kind='barh', figsize=(10,6))\n",
        "plt.title('Top 10 Important Features')\n",
        "plt.xlabel('Relative Importance')\n",
        "plt.show()"
      ],
      "metadata": {
        "id": "6FHpsAnUaPLp"
      },
      "execution_count": null,
      "outputs": []
    },
    {
      "cell_type": "markdown",
      "source": [
        "#  **K** **-** **Nearest** **Neighbours**\n",
        "\n",
        "## Justification\n",
        "\n",
        "\n",
        "In this project, we are using the K-Nearest Neighbors (KNN) as on of the algorithm for diabetic prediction. The choice of KNN is justified by the following reasons:\n",
        "\n",
        "1. KNN is a non-parametric, lazy learning algorithm. It means that KNN does not make any assumptions about the underlying data. This makes it suitable for a wide range of applications, including diabetic prediction.\n",
        "\n",
        "2. KNN is a versatile algorithm that can be used for both classification and regression. In this project, we are using KNN for classification, as we are trying to predict whether a patient has diabetes or not.\n",
        "\n",
        "3. KNN is a good choice for high-dimensional data. PCA is used to reduce the dimensionality of the data before applying KNN. This helps in reducing the computational complexity of the KNN algorithm.\n",
        "\n",
        "4. KNN is a robust algorithm. It is less prone to overfitting, which is a common problem in machine learning. This makes KNN a good choice for diabetic prediction, as we want a model that generalizes well to unseen data.\n",
        "\n",
        "5. KNN is a good choice for multi-class problems. In this project, we are trying to predict whether a patient has diabetes or not. This is a multi-class problem, as there are three classes: no diabetes, pre-diabetes, and diabetes. KNN can handle multi-class problems effectively.\n",
        "\n"
      ],
      "metadata": {
        "id": "XZwlcqQMP6SY"
      }
    },
    {
      "cell_type": "code",
      "source": [
        "pca = PCA(n_components=15)\n",
        "X_pca = pca.fit_transform(X)"
      ],
      "metadata": {
        "id": "S3-fapt0d4Og"
      },
      "execution_count": null,
      "outputs": []
    },
    {
      "cell_type": "code",
      "source": [
        "plt.figure(figsize=(8, 6))\n",
        "plt.plot(range(1, 16), pca.explained_variance_ratio_, marker='o')\n",
        "plt.title('Explained Variance Ratio')\n",
        "plt.xlabel('Principal Component')\n",
        "plt.ylabel('Explained Variance Ratio')\n",
        "plt.show()"
      ],
      "metadata": {
        "id": "m1ETsWb6d62R"
      },
      "execution_count": null,
      "outputs": []
    },
    {
      "cell_type": "code",
      "source": [
        "X_train, X_test, y_train, y_test = train_test_split(X_pca, y, test_size=0.2, random_state=42)"
      ],
      "metadata": {
        "id": "W4Tk6wuueEz4"
      },
      "execution_count": null,
      "outputs": []
    },
    {
      "cell_type": "code",
      "source": [
        "scaler = MinMaxScaler()\n",
        "X_train_scaled = scaler.fit_transform(X_train)\n",
        "X_test_scaled = scaler.transform(X_test)"
      ],
      "metadata": {
        "id": "EKug2p2eeHNF"
      },
      "execution_count": null,
      "outputs": []
    },
    {
      "cell_type": "code",
      "source": [
        "from sklearn.feature_selection import SelectKBest, f_classif\n",
        "\n",
        "selector = SelectKBest(score_func=f_classif, k=10)\n",
        "\n",
        "X_train_selected = selector.fit_transform(X_train_scaled, y_train)\n",
        "\n",
        "# Getting the indices of the selected features\n",
        "selected_indices = selector.get_support(indices=True)\n",
        "# Getting the names of the selected features\n",
        "selected_features = X.columns[selected_indices]\n",
        "print(\"Selected features:\", selected_features)"
      ],
      "metadata": {
        "colab": {
          "base_uri": "https://localhost:8080/"
        },
        "id": "VUOQMAcjbuL0",
        "outputId": "768450c9-40cb-4be7-beca-0543f9a4990e"
      },
      "execution_count": null,
      "outputs": [
        {
          "output_type": "stream",
          "name": "stdout",
          "text": [
            "Selected features: Index(['HighBP', 'HighChol', 'CholCheck', 'BMI', 'Smoker', 'Stroke',\n",
            "       'HeartDiseaseorAttack', 'PhysActivity', 'HvyAlcoholConsump',\n",
            "       'AnyHealthcare'],\n",
            "      dtype='object')\n"
          ]
        }
      ]
    },
    {
      "cell_type": "code",
      "source": [
        "knn_classifier = KNeighborsClassifier(n_neighbors=5)\n",
        "knn_classifier.fit(X_train_scaled, y_train)"
      ],
      "metadata": {
        "colab": {
          "base_uri": "https://localhost:8080/",
          "height": 75
        },
        "id": "U4KQJvjYeJVn",
        "outputId": "5eff774d-23ef-4948-f9f0-58f14d3810b1"
      },
      "execution_count": null,
      "outputs": [
        {
          "output_type": "execute_result",
          "data": {
            "text/plain": [
              "KNeighborsClassifier()"
            ],
            "text/html": [
              "<style>#sk-container-id-1 {color: black;background-color: white;}#sk-container-id-1 pre{padding: 0;}#sk-container-id-1 div.sk-toggleable {background-color: white;}#sk-container-id-1 label.sk-toggleable__label {cursor: pointer;display: block;width: 100%;margin-bottom: 0;padding: 0.3em;box-sizing: border-box;text-align: center;}#sk-container-id-1 label.sk-toggleable__label-arrow:before {content: \"▸\";float: left;margin-right: 0.25em;color: #696969;}#sk-container-id-1 label.sk-toggleable__label-arrow:hover:before {color: black;}#sk-container-id-1 div.sk-estimator:hover label.sk-toggleable__label-arrow:before {color: black;}#sk-container-id-1 div.sk-toggleable__content {max-height: 0;max-width: 0;overflow: hidden;text-align: left;background-color: #f0f8ff;}#sk-container-id-1 div.sk-toggleable__content pre {margin: 0.2em;color: black;border-radius: 0.25em;background-color: #f0f8ff;}#sk-container-id-1 input.sk-toggleable__control:checked~div.sk-toggleable__content {max-height: 200px;max-width: 100%;overflow: auto;}#sk-container-id-1 input.sk-toggleable__control:checked~label.sk-toggleable__label-arrow:before {content: \"▾\";}#sk-container-id-1 div.sk-estimator input.sk-toggleable__control:checked~label.sk-toggleable__label {background-color: #d4ebff;}#sk-container-id-1 div.sk-label input.sk-toggleable__control:checked~label.sk-toggleable__label {background-color: #d4ebff;}#sk-container-id-1 input.sk-hidden--visually {border: 0;clip: rect(1px 1px 1px 1px);clip: rect(1px, 1px, 1px, 1px);height: 1px;margin: -1px;overflow: hidden;padding: 0;position: absolute;width: 1px;}#sk-container-id-1 div.sk-estimator {font-family: monospace;background-color: #f0f8ff;border: 1px dotted black;border-radius: 0.25em;box-sizing: border-box;margin-bottom: 0.5em;}#sk-container-id-1 div.sk-estimator:hover {background-color: #d4ebff;}#sk-container-id-1 div.sk-parallel-item::after {content: \"\";width: 100%;border-bottom: 1px solid gray;flex-grow: 1;}#sk-container-id-1 div.sk-label:hover label.sk-toggleable__label {background-color: #d4ebff;}#sk-container-id-1 div.sk-serial::before {content: \"\";position: absolute;border-left: 1px solid gray;box-sizing: border-box;top: 0;bottom: 0;left: 50%;z-index: 0;}#sk-container-id-1 div.sk-serial {display: flex;flex-direction: column;align-items: center;background-color: white;padding-right: 0.2em;padding-left: 0.2em;position: relative;}#sk-container-id-1 div.sk-item {position: relative;z-index: 1;}#sk-container-id-1 div.sk-parallel {display: flex;align-items: stretch;justify-content: center;background-color: white;position: relative;}#sk-container-id-1 div.sk-item::before, #sk-container-id-1 div.sk-parallel-item::before {content: \"\";position: absolute;border-left: 1px solid gray;box-sizing: border-box;top: 0;bottom: 0;left: 50%;z-index: -1;}#sk-container-id-1 div.sk-parallel-item {display: flex;flex-direction: column;z-index: 1;position: relative;background-color: white;}#sk-container-id-1 div.sk-parallel-item:first-child::after {align-self: flex-end;width: 50%;}#sk-container-id-1 div.sk-parallel-item:last-child::after {align-self: flex-start;width: 50%;}#sk-container-id-1 div.sk-parallel-item:only-child::after {width: 0;}#sk-container-id-1 div.sk-dashed-wrapped {border: 1px dashed gray;margin: 0 0.4em 0.5em 0.4em;box-sizing: border-box;padding-bottom: 0.4em;background-color: white;}#sk-container-id-1 div.sk-label label {font-family: monospace;font-weight: bold;display: inline-block;line-height: 1.2em;}#sk-container-id-1 div.sk-label-container {text-align: center;}#sk-container-id-1 div.sk-container {/* jupyter's `normalize.less` sets `[hidden] { display: none; }` but bootstrap.min.css set `[hidden] { display: none !important; }` so we also need the `!important` here to be able to override the default hidden behavior on the sphinx rendered scikit-learn.org. See: https://github.com/scikit-learn/scikit-learn/issues/21755 */display: inline-block !important;position: relative;}#sk-container-id-1 div.sk-text-repr-fallback {display: none;}</style><div id=\"sk-container-id-1\" class=\"sk-top-container\"><div class=\"sk-text-repr-fallback\"><pre>KNeighborsClassifier()</pre><b>In a Jupyter environment, please rerun this cell to show the HTML representation or trust the notebook. <br />On GitHub, the HTML representation is unable to render, please try loading this page with nbviewer.org.</b></div><div class=\"sk-container\" hidden><div class=\"sk-item\"><div class=\"sk-estimator sk-toggleable\"><input class=\"sk-toggleable__control sk-hidden--visually\" id=\"sk-estimator-id-1\" type=\"checkbox\" checked><label for=\"sk-estimator-id-1\" class=\"sk-toggleable__label sk-toggleable__label-arrow\">KNeighborsClassifier</label><div class=\"sk-toggleable__content\"><pre>KNeighborsClassifier()</pre></div></div></div></div></div>"
            ]
          },
          "metadata": {},
          "execution_count": 16
        }
      ]
    },
    {
      "cell_type": "code",
      "source": [
        "y_pred = knn_classifier.predict(X_test_scaled)"
      ],
      "metadata": {
        "id": "fp-4AzmJeNYo"
      },
      "execution_count": null,
      "outputs": []
    },
    {
      "cell_type": "code",
      "source": [
        "accuracy = accuracy_score(y_test, y_pred)\n",
        "print(\"Accuracy:\", accuracy)\n",
        "print(\"\\nClassification Report:\")\n",
        "print(classification_report(y_test, y_pred))\n",
        "conf_matrix = confusion_matrix(y_test, y_pred)"
      ],
      "metadata": {
        "colab": {
          "base_uri": "https://localhost:8080/"
        },
        "id": "JfZ3br_yePUu",
        "outputId": "9855c053-a3cd-476e-b51f-9e84abcac3f6"
      },
      "execution_count": null,
      "outputs": [
        {
          "output_type": "stream",
          "name": "stdout",
          "text": [
            "Accuracy: 0.70325\n",
            "\n",
            "Classification Report:\n",
            "              precision    recall  f1-score   support\n",
            "\n",
            "         0.0       0.72      0.68      0.70      2019\n",
            "         1.0       0.69      0.73      0.71      1981\n",
            "\n",
            "    accuracy                           0.70      4000\n",
            "   macro avg       0.70      0.70      0.70      4000\n",
            "weighted avg       0.70      0.70      0.70      4000\n",
            "\n"
          ]
        }
      ]
    },
    {
      "cell_type": "code",
      "source": [
        "plt.figure(figsize=(8, 6))\n",
        "sns.heatmap(conf_matrix, annot=True, fmt='d', cmap='Blues', annot_kws={\"size\": 16})\n",
        "plt.title('Confusion Matrix')\n",
        "plt.xlabel('Predicted')\n",
        "plt.ylabel('Actual')\n",
        "plt.show()"
      ],
      "metadata": {
        "id": "akD-TNH6eR6a"
      },
      "execution_count": null,
      "outputs": []
    },
    {
      "cell_type": "code",
      "source": [
        "from sklearn.model_selection import GridSearchCV\n",
        "from sklearn.neighbors import KNeighborsClassifier\n",
        "\n",
        "param_grid = {'n_neighbors': [3, 5, 7, 9, 11, 13, 15]}\n",
        "grid_search = GridSearchCV(knn_classifier, param_grid, cv=5, scoring='accuracy')\n",
        "grid_search.fit(X_train_scaled, y_train)\n",
        "best_n_neighbors = grid_search.best_params_['n_neighbors']\n",
        "print(\"Best n_neighbors:\", best_n_neighbors)"
      ],
      "metadata": {
        "colab": {
          "base_uri": "https://localhost:8080/"
        },
        "id": "7lJH_kA6eU4j",
        "outputId": "08eb739c-34b8-42e6-9634-2d7fa1fcd4ac"
      },
      "execution_count": null,
      "outputs": [
        {
          "output_type": "stream",
          "name": "stdout",
          "text": [
            "Best n_neighbors: 15\n"
          ]
        }
      ]
    },
    {
      "cell_type": "code",
      "source": [
        "best_knn_classifier = KNeighborsClassifier(n_neighbors=best_n_neighbors)\n",
        "best_knn_classifier.fit(X_train_scaled, y_train)"
      ],
      "metadata": {
        "colab": {
          "base_uri": "https://localhost:8080/",
          "height": 75
        },
        "id": "Eccrty-feXcO",
        "outputId": "88be319a-bc0c-4945-903f-a3f3a5f1046d"
      },
      "execution_count": null,
      "outputs": [
        {
          "output_type": "execute_result",
          "data": {
            "text/plain": [
              "KNeighborsClassifier(n_neighbors=15)"
            ],
            "text/html": [
              "<style>#sk-container-id-2 {color: black;background-color: white;}#sk-container-id-2 pre{padding: 0;}#sk-container-id-2 div.sk-toggleable {background-color: white;}#sk-container-id-2 label.sk-toggleable__label {cursor: pointer;display: block;width: 100%;margin-bottom: 0;padding: 0.3em;box-sizing: border-box;text-align: center;}#sk-container-id-2 label.sk-toggleable__label-arrow:before {content: \"▸\";float: left;margin-right: 0.25em;color: #696969;}#sk-container-id-2 label.sk-toggleable__label-arrow:hover:before {color: black;}#sk-container-id-2 div.sk-estimator:hover label.sk-toggleable__label-arrow:before {color: black;}#sk-container-id-2 div.sk-toggleable__content {max-height: 0;max-width: 0;overflow: hidden;text-align: left;background-color: #f0f8ff;}#sk-container-id-2 div.sk-toggleable__content pre {margin: 0.2em;color: black;border-radius: 0.25em;background-color: #f0f8ff;}#sk-container-id-2 input.sk-toggleable__control:checked~div.sk-toggleable__content {max-height: 200px;max-width: 100%;overflow: auto;}#sk-container-id-2 input.sk-toggleable__control:checked~label.sk-toggleable__label-arrow:before {content: \"▾\";}#sk-container-id-2 div.sk-estimator input.sk-toggleable__control:checked~label.sk-toggleable__label {background-color: #d4ebff;}#sk-container-id-2 div.sk-label input.sk-toggleable__control:checked~label.sk-toggleable__label {background-color: #d4ebff;}#sk-container-id-2 input.sk-hidden--visually {border: 0;clip: rect(1px 1px 1px 1px);clip: rect(1px, 1px, 1px, 1px);height: 1px;margin: -1px;overflow: hidden;padding: 0;position: absolute;width: 1px;}#sk-container-id-2 div.sk-estimator {font-family: monospace;background-color: #f0f8ff;border: 1px dotted black;border-radius: 0.25em;box-sizing: border-box;margin-bottom: 0.5em;}#sk-container-id-2 div.sk-estimator:hover {background-color: #d4ebff;}#sk-container-id-2 div.sk-parallel-item::after {content: \"\";width: 100%;border-bottom: 1px solid gray;flex-grow: 1;}#sk-container-id-2 div.sk-label:hover label.sk-toggleable__label {background-color: #d4ebff;}#sk-container-id-2 div.sk-serial::before {content: \"\";position: absolute;border-left: 1px solid gray;box-sizing: border-box;top: 0;bottom: 0;left: 50%;z-index: 0;}#sk-container-id-2 div.sk-serial {display: flex;flex-direction: column;align-items: center;background-color: white;padding-right: 0.2em;padding-left: 0.2em;position: relative;}#sk-container-id-2 div.sk-item {position: relative;z-index: 1;}#sk-container-id-2 div.sk-parallel {display: flex;align-items: stretch;justify-content: center;background-color: white;position: relative;}#sk-container-id-2 div.sk-item::before, #sk-container-id-2 div.sk-parallel-item::before {content: \"\";position: absolute;border-left: 1px solid gray;box-sizing: border-box;top: 0;bottom: 0;left: 50%;z-index: -1;}#sk-container-id-2 div.sk-parallel-item {display: flex;flex-direction: column;z-index: 1;position: relative;background-color: white;}#sk-container-id-2 div.sk-parallel-item:first-child::after {align-self: flex-end;width: 50%;}#sk-container-id-2 div.sk-parallel-item:last-child::after {align-self: flex-start;width: 50%;}#sk-container-id-2 div.sk-parallel-item:only-child::after {width: 0;}#sk-container-id-2 div.sk-dashed-wrapped {border: 1px dashed gray;margin: 0 0.4em 0.5em 0.4em;box-sizing: border-box;padding-bottom: 0.4em;background-color: white;}#sk-container-id-2 div.sk-label label {font-family: monospace;font-weight: bold;display: inline-block;line-height: 1.2em;}#sk-container-id-2 div.sk-label-container {text-align: center;}#sk-container-id-2 div.sk-container {/* jupyter's `normalize.less` sets `[hidden] { display: none; }` but bootstrap.min.css set `[hidden] { display: none !important; }` so we also need the `!important` here to be able to override the default hidden behavior on the sphinx rendered scikit-learn.org. See: https://github.com/scikit-learn/scikit-learn/issues/21755 */display: inline-block !important;position: relative;}#sk-container-id-2 div.sk-text-repr-fallback {display: none;}</style><div id=\"sk-container-id-2\" class=\"sk-top-container\"><div class=\"sk-text-repr-fallback\"><pre>KNeighborsClassifier(n_neighbors=15)</pre><b>In a Jupyter environment, please rerun this cell to show the HTML representation or trust the notebook. <br />On GitHub, the HTML representation is unable to render, please try loading this page with nbviewer.org.</b></div><div class=\"sk-container\" hidden><div class=\"sk-item\"><div class=\"sk-estimator sk-toggleable\"><input class=\"sk-toggleable__control sk-hidden--visually\" id=\"sk-estimator-id-2\" type=\"checkbox\" checked><label for=\"sk-estimator-id-2\" class=\"sk-toggleable__label sk-toggleable__label-arrow\">KNeighborsClassifier</label><div class=\"sk-toggleable__content\"><pre>KNeighborsClassifier(n_neighbors=15)</pre></div></div></div></div></div>"
            ]
          },
          "metadata": {},
          "execution_count": 28
        }
      ]
    },
    {
      "cell_type": "code",
      "source": [
        "# Make predictions on the testing set\n",
        "y_pred_best = best_knn_classifier.predict(X_test_scaled)"
      ],
      "metadata": {
        "id": "JTEwZoyredt7"
      },
      "execution_count": null,
      "outputs": []
    },
    {
      "cell_type": "code",
      "source": [
        "# Evaluate the performance of the classifier with the best parameter\n",
        "accuracy_best = accuracy_score(y_test, y_pred_best)\n",
        "print(\"Accuracy with best parameter:\", accuracy_best)"
      ],
      "metadata": {
        "colab": {
          "base_uri": "https://localhost:8080/"
        },
        "id": "jq8CsLFyefes",
        "outputId": "f4234a9e-7169-42d1-bb5c-f7b5269d0cea"
      },
      "execution_count": null,
      "outputs": [
        {
          "output_type": "stream",
          "name": "stdout",
          "text": [
            "Accuracy with best parameter: 0.72675\n"
          ]
        }
      ]
    },
    {
      "cell_type": "markdown",
      "source": [
        "\n",
        "\n",
        "1. **Selected Features**:\n",
        "    - The selected features used for classification are 'HighBP', 'HighChol', 'CholCheck', 'BMI', 'Smoker', 'Stroke', 'HeartDiseaseorAttack', 'PhysActivity', 'HvyAlcoholConsump', and 'AnyHealthcare'.\n",
        "\n",
        "2. **Accuracy**:\n",
        "    - The overall accuracy of the KNN classifier on the test set is approximately 70.33%.\n",
        "\n",
        "3. **Classification Report**:\n",
        "    - Precision, recall, and F1-score are metrics used to evaluate the performance of a classification model.\n",
        "    - Precision is the ratio of correctly predicted positive observations to the total predicted positives.\n",
        "    - Recall (also known as sensitivity) is the ratio of correctly predicted positive observations to all actual positives.\n",
        "    - F1-score is the weighted average of precision and recall.\n",
        "    - The classification report shows the precision, recall, and F1-score for both classes (0 and 1), along with support (the number of actual occurrences of the class in the test set).\n",
        "\n",
        "4. **Best Number of Neighbors**:\n",
        "    - The best number of neighbors obtained through grid search is 15.\n",
        "\n",
        "5. **Accuracy with Best Parameter**:\n",
        "    - After using the best parameter obtained from grid search, the accuracy of the KNN classifier on the test set improves to approximately 72.68%.\n",
        "\n",
        "The model performs reasonably well, with accuracy slightly improving when using the best parameter for the number of neighbors. The classification report indicates that the model has balanced performance across both classes, with similar precision, recall, and F1-score for each class."
      ],
      "metadata": {
        "id": "UG4vu1m1s22B"
      }
    },
    {
      "cell_type": "markdown",
      "source": [
        "# **Neural Network**\n",
        "\n",
        "### Justification\n",
        "\n",
        "1. **Complex Patterns and Non-Linearity:**\n",
        "    - The dataset contains diverse and complex patterns that may not be effectively captured by linear models. Neural networks excel in capturing non-linear relationships and intricate patterns within the data.\n",
        "\n",
        "2. **Feature Heterogeneity:**\n",
        "    - Neural networks can effectively handle datasets with diverse types of features, such as numerical, categorical, and ordinal. This flexibility is crucial when dealing with a dataset like ours, which includes various health-related and demographic features.\n",
        "\n",
        "3. **Automatic Feature Learning:**\n",
        "    - Neural networks are capable of automatically learning relevant hierarchical features from the input data. This is especially advantageous in situations where manual feature engineering might be challenging due to the complexity of the relationships between different variables.\n",
        "\n",
        "4. **Representation Learning:**\n",
        "    - The ability of neural networks to learn hierarchical representations can enhance the model's ability to extract meaningful features from raw data. This can be crucial in identifying intricate relationships between health-related factors and diabetes outcomes.\n",
        "\n",
        "5. **Adaptability to Data Variability:**\n",
        "    - Neural networks are known for their adaptability to varying data distributions. In healthcare datasets, where individual health conditions and characteristics can vary widely, a model that adapts well to data variability is essential for robust predictions.\n",
        "\n",
        "6. **Handling Class Imbalance:**\n",
        "    - Neural networks can be designed to handle class imbalance effectively. In our dataset, where the distribution of diabetes classes may be imbalanced, a model that is sensitive to class representation can improve the accuracy of predictions.\n",
        "\n",
        "7. **Predictive Accuracy:**\n",
        "    - Neural networks have demonstrated state-of-the-art performance in various machine learning tasks, including complex medical predictions. The aim is to leverage their ability to capture intricate patterns and achieve high predictive accuracy in identifying diabetes outcomes.\n",
        "\n",
        "8. **Continuous Model Improvement:**\n",
        "    - Neural networks allow for continuous improvement through fine-tuning and optimization. This is crucial in healthcare applications where the model may need periodic updates to adapt to evolving patient populations and health trends.\n",
        "\n",
        "In conclusion, the choice of a neural network for diabetes prediction is driven by its capability to handle the complexity and diversity of the dataset, automatically learn relevant features, and adapt to varying data conditions. The goal is to harness the power of neural networks to provide accurate and meaningful predictions, ultimately contributing to improved understanding and management of diabetes.\n"
      ],
      "metadata": {
        "id": "ecGuQ84rwmEt"
      }
    },
    {
      "cell_type": "code",
      "source": [
        "from google.colab import drive\n",
        "import numpy as np\n",
        "import pandas as pd\n",
        "from sklearn.model_selection import train_test_split\n",
        "from sklearn.preprocessing import StandardScaler\n",
        "from sklearn.utils.class_weight import compute_class_weight\n",
        "from tensorflow.keras.models import Sequential\n",
        "from tensorflow.keras.layers import Dense\n",
        "\n",
        "# Mount Google Drive\n",
        "drive.mount('/content/drive')\n",
        "\n",
        "# Load the dataset\n",
        "file_path = '/content/drive/MyDrive/Colab Notebooks/DiabetesHI.csv'\n",
        "df = pd.read_csv(file_path)\n",
        "\n",
        "# Display the first few rows of the dataset\n",
        "df.head()\n",
        "\n",
        "# Define features (X) and target variable (y)\n",
        "X = df.drop('Diabetes_012', axis=1)\n",
        "y = df['Diabetes_012']\n",
        "\n",
        "# Convert the target variable to categorical\n",
        "y_categorical = pd.get_dummies(y)\n",
        "\n",
        "# Split the dataset into training and testing sets\n",
        "X_train, X_test, y_train, y_test = train_test_split(X, y_categorical, test_size=0.2, random_state=42)\n",
        "\n",
        "# Standardize the data\n",
        "scaler = StandardScaler()\n",
        "X_train = scaler.fit_transform(X_train)\n",
        "X_test = scaler.transform(X_test)\n",
        "\n",
        "# Calculate class weights for handling imbalance\n",
        "class_weights = compute_class_weight('balanced', classes=np.unique(y), y=y)\n",
        "\n",
        "# Build the neural network model for multi-class classification\n",
        "model = Sequential()\n",
        "model.add(Dense(64, activation='relu', input_dim=X_train.shape[1]))\n",
        "model.add(Dense(32, activation='relu'))\n",
        "model.add(Dense(3, activation='softmax'))  # Three classes, so 'softmax' activation\n",
        "\n",
        "# Compile the model with class weights\n",
        "model.compile(optimizer='adam', loss='categorical_crossentropy', metrics=['accuracy'])\n",
        "\n",
        "# Train the model with class weights\n",
        "model.fit(X_train, y_train, epochs=50, batch_size=32, validation_split=0.2, class_weight=dict(enumerate(class_weights)))\n",
        "\n",
        "# Evaluate the model on the test set\n",
        "test_loss, test_accuracy = model.evaluate(X_test, y_test)\n",
        "print(f'Test Loss: {test_loss:.4f}')\n",
        "print(f'Test Accuracy: {test_accuracy:.4f}')\n"
      ],
      "metadata": {
        "id": "g8t7PkvPwqFn"
      },
      "execution_count": null,
      "outputs": []
    },
    {
      "cell_type": "markdown",
      "source": [
        "**Test Loss:** 0.8341\n",
        "**Test Accuracy:** ~60%\n",
        "\n",
        "Note: There will be minor variations to the accuracy whenever the code is executed."
      ],
      "metadata": {
        "id": "K2DX-GFE0AQQ"
      }
    },
    {
      "cell_type": "markdown",
      "source": [
        "# Confusion Matrix\n",
        "We examine the confusion matrix to understand how well the model is performaing for each class."
      ],
      "metadata": {
        "id": "Te1BTSZR0VG6"
      }
    },
    {
      "cell_type": "code",
      "source": [
        "from sklearn.metrics import confusion_matrix\n",
        "y_pred = model.predict(X_test)\n",
        "y_pred_classes = np.argmax(y_pred, axis=1)\n",
        "y_true = np.argmax(np.array(y_test), axis=1)\n",
        "cm = confusion_matrix(y_true, y_pred_classes)\n",
        "print(cm)\n"
      ],
      "metadata": {
        "id": "kwUeHMSv0TIA"
      },
      "execution_count": null,
      "outputs": []
    },
    {
      "cell_type": "markdown",
      "source": [
        "The confusion matrix provides a detailed breakdown of the model's performance across different classes. In our case, with a multi-class classification problem, the confusion matrix has three rows and three columns, corresponding to the three classes.\n",
        "\n",
        "Interpretation:\n",
        "\n",
        "| Actual / Predicted | Class 0 | Class 1 | Class 2 |\n",
        "|---------------------|---------|---------|---------|\n",
        "| Class 0             | 25324   | 8246    | 9225    |\n",
        "| Class 1             | 242     | 263     | 439     |\n",
        "| Class 2             | 927     | 1654    | 4416    |\n",
        "\n",
        "\n",
        "\n",
        "*   **Class 0 (No diabetes or only during pregnancy)**:\n",
        "\n",
        "\n",
        ">     Correctly predicted as Class 0: 25324\n",
        "    Incorrectly predicted as Class 1: 8246\n",
        "    Incorrectly predicted as Class 2: 9225\n",
        "\n",
        "\n",
        "*   **Class 1 (Prediabetes):**\n",
        "\n",
        "\n",
        ">     Incorrectly predicted as Class 0: 242\n",
        "    Correctly predicted as Class 1: 263\n",
        "    Incorrectly predicted as Class 2: 439\n",
        "    \n",
        "\n",
        "*   **Class 2 (Diabetes):**\n",
        "\n",
        "\n",
        ">     Incorrectly predicted as Class 0: 927\n",
        "    Incorrectly predicted as Class 1: 1654\n",
        "    Correctly predicted as Class 2: 4416"
      ],
      "metadata": {
        "id": "UBM-5cU21B27"
      }
    },
    {
      "cell_type": "markdown",
      "source": [
        "# **Data Visualisation**\n",
        "Now we take a look at some data visualizations, the following visualisations were done:\n",
        "\n",
        "\n",
        "*   Visualize the correlation matrix of numerical features\n",
        "*   Visualize the distribution of numerical features\n",
        "*   Visualize the relationship between numerical features and the target variable\n",
        "\n",
        "\n",
        "\n",
        "\n"
      ],
      "metadata": {
        "id": "_IMvBg172uV3"
      }
    },
    {
      "cell_type": "code",
      "source": [
        "import matplotlib.pyplot as plt\n",
        "import seaborn as sns\n",
        "\n",
        "# Display the first few rows of the dataset\n",
        "df.head()\n",
        "\n",
        "\n",
        "# Visualize the correlation matrix of numerical features\n",
        "plt.figure(figsize=(14, 10))\n",
        "\n",
        "# Compute the correlation matrix\n",
        "corr_matrix = df.corr()\n",
        "\n",
        "# Choose a diverging color map\n",
        "cmap = sns.diverging_palette(230, 20, as_cmap=True)\n",
        "\n",
        "# Plot the heatmap with adjusted settings\n",
        "sns.heatmap(corr_matrix, annot=True, cmap=cmap, linewidths=0.5, fmt=\".2f\", annot_kws={\"size\": 8}, cbar_kws={\"shrink\": 0.8})\n",
        "\n",
        "# Adjust axis labels for better readability\n",
        "plt.xticks(rotation=45, ha='right', fontsize=10)\n",
        "plt.yticks(rotation=0, ha='right', fontsize=10)\n",
        "\n",
        "plt.title('Correlation Matrix of Numerical Features', fontsize=14)\n",
        "plt.show()\n",
        "\n",
        "# Visualize the distribution of numerical features with improved spacing (for better visual clarity)\n",
        "num_features = df.select_dtypes(include=['float64', 'int64']).columns\n",
        "fig, axes = plt.subplots(nrows=len(num_features)//2, ncols=2, figsize=(16, 12))\n",
        "\n",
        "# Flatten the axes array for easy iteration\n",
        "axes = axes.flatten()\n",
        "\n",
        "for i, feature in enumerate(num_features):\n",
        "    sns.histplot(df[feature], bins=20, kde=True, ax=axes[i])\n",
        "    axes[i].set_title(f'Distribution of {feature}')\n",
        "    axes[i].set_xlabel(feature)\n",
        "    axes[i].set_ylabel('Frequency')\n",
        "\n",
        "    # Adjust x-axis label rotation\n",
        "    axes[i].tick_params(axis='x', rotation=45, labelsize=8)\n",
        "\n",
        "# Adjust layout for better spacing\n",
        "plt.tight_layout()\n",
        "plt.show()\n",
        "\n"
      ],
      "metadata": {
        "id": "1qwugk2U1d1P"
      },
      "execution_count": null,
      "outputs": []
    },
    {
      "cell_type": "markdown",
      "source": [
        "### **Correlation Interpretations**\n",
        "\n",
        "1. **Genhlth and Phys hlth (0.52):**\n",
        "   - There is a moderate positive correlation (0.52) between \"Genhlth\" (General Health) and \"Phys hlth\" (Physical Health). This suggests that individuals who report better general health also tend to report better physical health.\n",
        "\n",
        "2. **Genhlth and Diffwalk (0.46):**\n",
        "   - There is a moderate positive correlation (0.46) between \"Genhlth\" and \"Diffwalk\" (Difficulty Walking). This indicates that individuals with better general health may also experience less difficulty walking.\n",
        "\n",
        "3. **Physhlth and Diffwalk (0.48):**\n",
        "   - There is a moderate positive correlation (0.48) between \"Physhlth\" (Physical Health) and \"Diffwalk.\" This suggests that individuals with better physical health may experience less difficulty walking.\n",
        "\n",
        "4. **Income and Genhlth (-0.37):**\n",
        "   - There is a moderate negative correlation (-0.37) between \"Income\" and \"Genhlth.\" This implies that, on average, individuals with higher incomes tend to report better general health.\n",
        "\n",
        "5. **Genhlth and PhysActivity (-0.27):**\n",
        "   - There is a negative correlation (-0.27) between \"Genhlth\" and \"PhysActivity\" (Physical Activity). This suggests that individuals who report better general health may have a slightly lower level of reported physical activity.\n",
        "\n",
        "6. **Menthhlth and Education (-0.28):**\n",
        "   - There is a negative correlation (-0.28) between \"Menthhlth\" (Mental Health) and \"Education.\" This implies that, on average, individuals with higher levels of education may report slightly better mental health.\n",
        "\n",
        "7. **Diabetes_012 and HighBP (0.27):**\n",
        "   -  A positive correlation of 0.27 suggests a weak positive linear relationship between \"Diabetes_012\" and \"HighBP.\" This implies that as the values of \"Diabetes_012\" increase, there is a tendency for the values of \"HighBP\" to also increase.\n",
        "  \n",
        "8. **Diabetes_012 and HighChol (0.21):**\n",
        "   - A positive correlation of 0.21 suggests a weak positive linear relationship between \"Diabetes_012\" and \"HighChol\" (High Cholesterol). This implies that as the values of \"Diabetes_012\" increase, there is a tendency for the values of \"HighChol\" to also increase.\n",
        "\n",
        "9. **HighBP and HighChol (0.30):**\n",
        "   - A positive correlation of 0.30 suggests a weak positive linear relationship between \"HighBP\" and \"HighChol.\" This implies that as the values of \"HighBP\" increase, there is a tendency for the values of \"HighChol\" to also increase.\n",
        "\n",
        "10. **Age and Diabetes_012 (0.19):**\n",
        "    - A positive correlation of 0.19 suggests a weak positive linear relationship between \"Age\" and \"Diabetes_012.\" This implies that as the values of \"Age\" increase, there is a tendency for the values of \"Diabetes_012\" to also increase.\n"
      ],
      "metadata": {
        "id": "VDA1dtYw5b7t"
      }
    },
    {
      "cell_type": "markdown",
      "source": [
        "# **Linear Regression**"
      ],
      "metadata": {
        "id": "5yS6mI1ESNjx"
      }
    },
    {
      "cell_type": "code",
      "source": [
        "import numpy as np\n",
        "import pandas as pd\n",
        "import matplotlib.pyplot as plt\n",
        "%matplotlib inline\n",
        "from sklearn.model_selection import train_test_split\n",
        "from sklearn.linear_model import LinearRegression\n",
        "from sklearn.metrics import accuracy_score, precision_score, recall_score, f1_score, confusion_matrix\n",
        "import statsmodels.api as sm\n",
        "import plotly.graph_objects as go"
      ],
      "metadata": {
        "id": "aUK4wjXfSvgH"
      },
      "execution_count": null,
      "outputs": []
    },
    {
      "cell_type": "code",
      "source": [
        "data = pd.read_csv(\"/content/df_reduced_normalized.csv\")"
      ],
      "metadata": {
        "id": "CunQ9qHGSSwZ"
      },
      "execution_count": null,
      "outputs": []
    },
    {
      "cell_type": "code",
      "source": [
        "data"
      ],
      "metadata": {
        "id": "wQ7M7mdBStZK",
        "colab": {
          "base_uri": "https://localhost:8080/",
          "height": 443
        },
        "outputId": "4774581c-0906-463c-d95d-d89cf5dc3c38"
      },
      "execution_count": null,
      "outputs": [
        {
          "output_type": "execute_result",
          "data": {
            "text/plain": [
              "       Diabetes_binary  HighBP  HighChol  CholCheck      BMI  Smoker  Stroke  \\\n",
              "0                  0.0     0.0       1.0        1.0  0.56250     1.0     0.0   \n",
              "1                  0.0     0.0       0.0        1.0  0.50000     0.0     0.0   \n",
              "2                  0.0     1.0       1.0        1.0  0.34375     1.0     1.0   \n",
              "3                  0.0     0.0       0.0        1.0  0.37500     1.0     0.0   \n",
              "4                  0.0     0.0       0.0        1.0  0.43750     1.0     0.0   \n",
              "...                ...     ...       ...        ...      ...     ...     ...   \n",
              "19995              1.0     1.0       1.0        1.0  0.84375     1.0     0.0   \n",
              "19996              1.0     0.0       0.0        1.0  0.34375     0.0     0.0   \n",
              "19997              1.0     1.0       0.0        1.0  0.78125     1.0     0.0   \n",
              "19998              1.0     1.0       1.0        1.0  0.43750     1.0     0.0   \n",
              "19999              1.0     1.0       1.0        1.0  0.87500     1.0     0.0   \n",
              "\n",
              "       HeartDiseaseorAttack  PhysActivity  Fruits  ...  AnyHealthcare  \\\n",
              "0                       0.0           1.0     1.0  ...            1.0   \n",
              "1                       0.0           1.0     0.0  ...            1.0   \n",
              "2                       0.0           1.0     1.0  ...            1.0   \n",
              "3                       0.0           1.0     0.0  ...            1.0   \n",
              "4                       0.0           0.0     1.0  ...            1.0   \n",
              "...                     ...           ...     ...  ...            ...   \n",
              "19995                   0.0           0.0     1.0  ...            1.0   \n",
              "19996                   0.0           1.0     1.0  ...            1.0   \n",
              "19997                   0.0           0.0     1.0  ...            1.0   \n",
              "19998                   1.0           1.0     1.0  ...            1.0   \n",
              "19999                   1.0           1.0     1.0  ...            1.0   \n",
              "\n",
              "       NoDocbcCost  GenHlth  MentHlth  PhysHlth  DiffWalk  Sex   Age  \\\n",
              "0              0.0      3.0       0.0       0.0       0.0  0.0   7.0   \n",
              "1              0.0      3.0       0.0       0.0       0.0  0.0   7.0   \n",
              "2              0.0      1.0       0.0       0.0       0.0  0.0   9.0   \n",
              "3              0.0      3.0       0.4       0.0       0.0  1.0   2.0   \n",
              "4              0.0      2.0       0.0       0.0       0.0  0.0  13.0   \n",
              "...            ...      ...       ...       ...       ...  ...   ...   \n",
              "19995          1.0      2.0       0.0       0.0       1.0  0.0  10.0   \n",
              "19996          0.0      3.0       0.0       0.0       0.0  1.0  13.0   \n",
              "19997          0.0      3.0       0.0       0.0       1.0  0.0  13.0   \n",
              "19998          0.0      3.0       0.0       0.0       0.0  1.0  10.0   \n",
              "19999          0.0      4.0       0.0       0.2       0.0  1.0   8.0   \n",
              "\n",
              "       Education  Income  \n",
              "0            5.0     8.0  \n",
              "1            6.0     7.0  \n",
              "2            6.0     6.0  \n",
              "3            6.0     7.0  \n",
              "4            4.0     4.0  \n",
              "...          ...     ...  \n",
              "19995        3.0     4.0  \n",
              "19996        6.0     8.0  \n",
              "19997        2.0     4.0  \n",
              "19998        4.0     6.0  \n",
              "19999        3.0     3.0  \n",
              "\n",
              "[20000 rows x 22 columns]"
            ],
            "text/html": [
              "\n",
              "  <div id=\"df-ba2c433c-4f24-466a-aa2a-a4c7bfd918cb\" class=\"colab-df-container\">\n",
              "    <div>\n",
              "<style scoped>\n",
              "    .dataframe tbody tr th:only-of-type {\n",
              "        vertical-align: middle;\n",
              "    }\n",
              "\n",
              "    .dataframe tbody tr th {\n",
              "        vertical-align: top;\n",
              "    }\n",
              "\n",
              "    .dataframe thead th {\n",
              "        text-align: right;\n",
              "    }\n",
              "</style>\n",
              "<table border=\"1\" class=\"dataframe\">\n",
              "  <thead>\n",
              "    <tr style=\"text-align: right;\">\n",
              "      <th></th>\n",
              "      <th>Diabetes_binary</th>\n",
              "      <th>HighBP</th>\n",
              "      <th>HighChol</th>\n",
              "      <th>CholCheck</th>\n",
              "      <th>BMI</th>\n",
              "      <th>Smoker</th>\n",
              "      <th>Stroke</th>\n",
              "      <th>HeartDiseaseorAttack</th>\n",
              "      <th>PhysActivity</th>\n",
              "      <th>Fruits</th>\n",
              "      <th>...</th>\n",
              "      <th>AnyHealthcare</th>\n",
              "      <th>NoDocbcCost</th>\n",
              "      <th>GenHlth</th>\n",
              "      <th>MentHlth</th>\n",
              "      <th>PhysHlth</th>\n",
              "      <th>DiffWalk</th>\n",
              "      <th>Sex</th>\n",
              "      <th>Age</th>\n",
              "      <th>Education</th>\n",
              "      <th>Income</th>\n",
              "    </tr>\n",
              "  </thead>\n",
              "  <tbody>\n",
              "    <tr>\n",
              "      <th>0</th>\n",
              "      <td>0.0</td>\n",
              "      <td>0.0</td>\n",
              "      <td>1.0</td>\n",
              "      <td>1.0</td>\n",
              "      <td>0.56250</td>\n",
              "      <td>1.0</td>\n",
              "      <td>0.0</td>\n",
              "      <td>0.0</td>\n",
              "      <td>1.0</td>\n",
              "      <td>1.0</td>\n",
              "      <td>...</td>\n",
              "      <td>1.0</td>\n",
              "      <td>0.0</td>\n",
              "      <td>3.0</td>\n",
              "      <td>0.0</td>\n",
              "      <td>0.0</td>\n",
              "      <td>0.0</td>\n",
              "      <td>0.0</td>\n",
              "      <td>7.0</td>\n",
              "      <td>5.0</td>\n",
              "      <td>8.0</td>\n",
              "    </tr>\n",
              "    <tr>\n",
              "      <th>1</th>\n",
              "      <td>0.0</td>\n",
              "      <td>0.0</td>\n",
              "      <td>0.0</td>\n",
              "      <td>1.0</td>\n",
              "      <td>0.50000</td>\n",
              "      <td>0.0</td>\n",
              "      <td>0.0</td>\n",
              "      <td>0.0</td>\n",
              "      <td>1.0</td>\n",
              "      <td>0.0</td>\n",
              "      <td>...</td>\n",
              "      <td>1.0</td>\n",
              "      <td>0.0</td>\n",
              "      <td>3.0</td>\n",
              "      <td>0.0</td>\n",
              "      <td>0.0</td>\n",
              "      <td>0.0</td>\n",
              "      <td>0.0</td>\n",
              "      <td>7.0</td>\n",
              "      <td>6.0</td>\n",
              "      <td>7.0</td>\n",
              "    </tr>\n",
              "    <tr>\n",
              "      <th>2</th>\n",
              "      <td>0.0</td>\n",
              "      <td>1.0</td>\n",
              "      <td>1.0</td>\n",
              "      <td>1.0</td>\n",
              "      <td>0.34375</td>\n",
              "      <td>1.0</td>\n",
              "      <td>1.0</td>\n",
              "      <td>0.0</td>\n",
              "      <td>1.0</td>\n",
              "      <td>1.0</td>\n",
              "      <td>...</td>\n",
              "      <td>1.0</td>\n",
              "      <td>0.0</td>\n",
              "      <td>1.0</td>\n",
              "      <td>0.0</td>\n",
              "      <td>0.0</td>\n",
              "      <td>0.0</td>\n",
              "      <td>0.0</td>\n",
              "      <td>9.0</td>\n",
              "      <td>6.0</td>\n",
              "      <td>6.0</td>\n",
              "    </tr>\n",
              "    <tr>\n",
              "      <th>3</th>\n",
              "      <td>0.0</td>\n",
              "      <td>0.0</td>\n",
              "      <td>0.0</td>\n",
              "      <td>1.0</td>\n",
              "      <td>0.37500</td>\n",
              "      <td>1.0</td>\n",
              "      <td>0.0</td>\n",
              "      <td>0.0</td>\n",
              "      <td>1.0</td>\n",
              "      <td>0.0</td>\n",
              "      <td>...</td>\n",
              "      <td>1.0</td>\n",
              "      <td>0.0</td>\n",
              "      <td>3.0</td>\n",
              "      <td>0.4</td>\n",
              "      <td>0.0</td>\n",
              "      <td>0.0</td>\n",
              "      <td>1.0</td>\n",
              "      <td>2.0</td>\n",
              "      <td>6.0</td>\n",
              "      <td>7.0</td>\n",
              "    </tr>\n",
              "    <tr>\n",
              "      <th>4</th>\n",
              "      <td>0.0</td>\n",
              "      <td>0.0</td>\n",
              "      <td>0.0</td>\n",
              "      <td>1.0</td>\n",
              "      <td>0.43750</td>\n",
              "      <td>1.0</td>\n",
              "      <td>0.0</td>\n",
              "      <td>0.0</td>\n",
              "      <td>0.0</td>\n",
              "      <td>1.0</td>\n",
              "      <td>...</td>\n",
              "      <td>1.0</td>\n",
              "      <td>0.0</td>\n",
              "      <td>2.0</td>\n",
              "      <td>0.0</td>\n",
              "      <td>0.0</td>\n",
              "      <td>0.0</td>\n",
              "      <td>0.0</td>\n",
              "      <td>13.0</td>\n",
              "      <td>4.0</td>\n",
              "      <td>4.0</td>\n",
              "    </tr>\n",
              "    <tr>\n",
              "      <th>...</th>\n",
              "      <td>...</td>\n",
              "      <td>...</td>\n",
              "      <td>...</td>\n",
              "      <td>...</td>\n",
              "      <td>...</td>\n",
              "      <td>...</td>\n",
              "      <td>...</td>\n",
              "      <td>...</td>\n",
              "      <td>...</td>\n",
              "      <td>...</td>\n",
              "      <td>...</td>\n",
              "      <td>...</td>\n",
              "      <td>...</td>\n",
              "      <td>...</td>\n",
              "      <td>...</td>\n",
              "      <td>...</td>\n",
              "      <td>...</td>\n",
              "      <td>...</td>\n",
              "      <td>...</td>\n",
              "      <td>...</td>\n",
              "      <td>...</td>\n",
              "    </tr>\n",
              "    <tr>\n",
              "      <th>19995</th>\n",
              "      <td>1.0</td>\n",
              "      <td>1.0</td>\n",
              "      <td>1.0</td>\n",
              "      <td>1.0</td>\n",
              "      <td>0.84375</td>\n",
              "      <td>1.0</td>\n",
              "      <td>0.0</td>\n",
              "      <td>0.0</td>\n",
              "      <td>0.0</td>\n",
              "      <td>1.0</td>\n",
              "      <td>...</td>\n",
              "      <td>1.0</td>\n",
              "      <td>1.0</td>\n",
              "      <td>2.0</td>\n",
              "      <td>0.0</td>\n",
              "      <td>0.0</td>\n",
              "      <td>1.0</td>\n",
              "      <td>0.0</td>\n",
              "      <td>10.0</td>\n",
              "      <td>3.0</td>\n",
              "      <td>4.0</td>\n",
              "    </tr>\n",
              "    <tr>\n",
              "      <th>19996</th>\n",
              "      <td>1.0</td>\n",
              "      <td>0.0</td>\n",
              "      <td>0.0</td>\n",
              "      <td>1.0</td>\n",
              "      <td>0.34375</td>\n",
              "      <td>0.0</td>\n",
              "      <td>0.0</td>\n",
              "      <td>0.0</td>\n",
              "      <td>1.0</td>\n",
              "      <td>1.0</td>\n",
              "      <td>...</td>\n",
              "      <td>1.0</td>\n",
              "      <td>0.0</td>\n",
              "      <td>3.0</td>\n",
              "      <td>0.0</td>\n",
              "      <td>0.0</td>\n",
              "      <td>0.0</td>\n",
              "      <td>1.0</td>\n",
              "      <td>13.0</td>\n",
              "      <td>6.0</td>\n",
              "      <td>8.0</td>\n",
              "    </tr>\n",
              "    <tr>\n",
              "      <th>19997</th>\n",
              "      <td>1.0</td>\n",
              "      <td>1.0</td>\n",
              "      <td>0.0</td>\n",
              "      <td>1.0</td>\n",
              "      <td>0.78125</td>\n",
              "      <td>1.0</td>\n",
              "      <td>0.0</td>\n",
              "      <td>0.0</td>\n",
              "      <td>0.0</td>\n",
              "      <td>1.0</td>\n",
              "      <td>...</td>\n",
              "      <td>1.0</td>\n",
              "      <td>0.0</td>\n",
              "      <td>3.0</td>\n",
              "      <td>0.0</td>\n",
              "      <td>0.0</td>\n",
              "      <td>1.0</td>\n",
              "      <td>0.0</td>\n",
              "      <td>13.0</td>\n",
              "      <td>2.0</td>\n",
              "      <td>4.0</td>\n",
              "    </tr>\n",
              "    <tr>\n",
              "      <th>19998</th>\n",
              "      <td>1.0</td>\n",
              "      <td>1.0</td>\n",
              "      <td>1.0</td>\n",
              "      <td>1.0</td>\n",
              "      <td>0.43750</td>\n",
              "      <td>1.0</td>\n",
              "      <td>0.0</td>\n",
              "      <td>1.0</td>\n",
              "      <td>1.0</td>\n",
              "      <td>1.0</td>\n",
              "      <td>...</td>\n",
              "      <td>1.0</td>\n",
              "      <td>0.0</td>\n",
              "      <td>3.0</td>\n",
              "      <td>0.0</td>\n",
              "      <td>0.0</td>\n",
              "      <td>0.0</td>\n",
              "      <td>1.0</td>\n",
              "      <td>10.0</td>\n",
              "      <td>4.0</td>\n",
              "      <td>6.0</td>\n",
              "    </tr>\n",
              "    <tr>\n",
              "      <th>19999</th>\n",
              "      <td>1.0</td>\n",
              "      <td>1.0</td>\n",
              "      <td>1.0</td>\n",
              "      <td>1.0</td>\n",
              "      <td>0.87500</td>\n",
              "      <td>1.0</td>\n",
              "      <td>0.0</td>\n",
              "      <td>1.0</td>\n",
              "      <td>1.0</td>\n",
              "      <td>1.0</td>\n",
              "      <td>...</td>\n",
              "      <td>1.0</td>\n",
              "      <td>0.0</td>\n",
              "      <td>4.0</td>\n",
              "      <td>0.0</td>\n",
              "      <td>0.2</td>\n",
              "      <td>0.0</td>\n",
              "      <td>1.0</td>\n",
              "      <td>8.0</td>\n",
              "      <td>3.0</td>\n",
              "      <td>3.0</td>\n",
              "    </tr>\n",
              "  </tbody>\n",
              "</table>\n",
              "<p>20000 rows × 22 columns</p>\n",
              "</div>\n",
              "    <div class=\"colab-df-buttons\">\n",
              "\n",
              "  <div class=\"colab-df-container\">\n",
              "    <button class=\"colab-df-convert\" onclick=\"convertToInteractive('df-ba2c433c-4f24-466a-aa2a-a4c7bfd918cb')\"\n",
              "            title=\"Convert this dataframe to an interactive table.\"\n",
              "            style=\"display:none;\">\n",
              "\n",
              "  <svg xmlns=\"http://www.w3.org/2000/svg\" height=\"24px\" viewBox=\"0 -960 960 960\">\n",
              "    <path d=\"M120-120v-720h720v720H120Zm60-500h600v-160H180v160Zm220 220h160v-160H400v160Zm0 220h160v-160H400v160ZM180-400h160v-160H180v160Zm440 0h160v-160H620v160ZM180-180h160v-160H180v160Zm440 0h160v-160H620v160Z\"/>\n",
              "  </svg>\n",
              "    </button>\n",
              "\n",
              "  <style>\n",
              "    .colab-df-container {\n",
              "      display:flex;\n",
              "      gap: 12px;\n",
              "    }\n",
              "\n",
              "    .colab-df-convert {\n",
              "      background-color: #E8F0FE;\n",
              "      border: none;\n",
              "      border-radius: 50%;\n",
              "      cursor: pointer;\n",
              "      display: none;\n",
              "      fill: #1967D2;\n",
              "      height: 32px;\n",
              "      padding: 0 0 0 0;\n",
              "      width: 32px;\n",
              "    }\n",
              "\n",
              "    .colab-df-convert:hover {\n",
              "      background-color: #E2EBFA;\n",
              "      box-shadow: 0px 1px 2px rgba(60, 64, 67, 0.3), 0px 1px 3px 1px rgba(60, 64, 67, 0.15);\n",
              "      fill: #174EA6;\n",
              "    }\n",
              "\n",
              "    .colab-df-buttons div {\n",
              "      margin-bottom: 4px;\n",
              "    }\n",
              "\n",
              "    [theme=dark] .colab-df-convert {\n",
              "      background-color: #3B4455;\n",
              "      fill: #D2E3FC;\n",
              "    }\n",
              "\n",
              "    [theme=dark] .colab-df-convert:hover {\n",
              "      background-color: #434B5C;\n",
              "      box-shadow: 0px 1px 3px 1px rgba(0, 0, 0, 0.15);\n",
              "      filter: drop-shadow(0px 1px 2px rgba(0, 0, 0, 0.3));\n",
              "      fill: #FFFFFF;\n",
              "    }\n",
              "  </style>\n",
              "\n",
              "    <script>\n",
              "      const buttonEl =\n",
              "        document.querySelector('#df-ba2c433c-4f24-466a-aa2a-a4c7bfd918cb button.colab-df-convert');\n",
              "      buttonEl.style.display =\n",
              "        google.colab.kernel.accessAllowed ? 'block' : 'none';\n",
              "\n",
              "      async function convertToInteractive(key) {\n",
              "        const element = document.querySelector('#df-ba2c433c-4f24-466a-aa2a-a4c7bfd918cb');\n",
              "        const dataTable =\n",
              "          await google.colab.kernel.invokeFunction('convertToInteractive',\n",
              "                                                    [key], {});\n",
              "        if (!dataTable) return;\n",
              "\n",
              "        const docLinkHtml = 'Like what you see? Visit the ' +\n",
              "          '<a target=\"_blank\" href=https://colab.research.google.com/notebooks/data_table.ipynb>data table notebook</a>'\n",
              "          + ' to learn more about interactive tables.';\n",
              "        element.innerHTML = '';\n",
              "        dataTable['output_type'] = 'display_data';\n",
              "        await google.colab.output.renderOutput(dataTable, element);\n",
              "        const docLink = document.createElement('div');\n",
              "        docLink.innerHTML = docLinkHtml;\n",
              "        element.appendChild(docLink);\n",
              "      }\n",
              "    </script>\n",
              "  </div>\n",
              "\n",
              "\n",
              "<div id=\"df-e47ecbc8-31e2-4726-af29-c20e373b6aaf\">\n",
              "  <button class=\"colab-df-quickchart\" onclick=\"quickchart('df-e47ecbc8-31e2-4726-af29-c20e373b6aaf')\"\n",
              "            title=\"Suggest charts\"\n",
              "            style=\"display:none;\">\n",
              "\n",
              "<svg xmlns=\"http://www.w3.org/2000/svg\" height=\"24px\"viewBox=\"0 0 24 24\"\n",
              "     width=\"24px\">\n",
              "    <g>\n",
              "        <path d=\"M19 3H5c-1.1 0-2 .9-2 2v14c0 1.1.9 2 2 2h14c1.1 0 2-.9 2-2V5c0-1.1-.9-2-2-2zM9 17H7v-7h2v7zm4 0h-2V7h2v10zm4 0h-2v-4h2v4z\"/>\n",
              "    </g>\n",
              "</svg>\n",
              "  </button>\n",
              "\n",
              "<style>\n",
              "  .colab-df-quickchart {\n",
              "      --bg-color: #E8F0FE;\n",
              "      --fill-color: #1967D2;\n",
              "      --hover-bg-color: #E2EBFA;\n",
              "      --hover-fill-color: #174EA6;\n",
              "      --disabled-fill-color: #AAA;\n",
              "      --disabled-bg-color: #DDD;\n",
              "  }\n",
              "\n",
              "  [theme=dark] .colab-df-quickchart {\n",
              "      --bg-color: #3B4455;\n",
              "      --fill-color: #D2E3FC;\n",
              "      --hover-bg-color: #434B5C;\n",
              "      --hover-fill-color: #FFFFFF;\n",
              "      --disabled-bg-color: #3B4455;\n",
              "      --disabled-fill-color: #666;\n",
              "  }\n",
              "\n",
              "  .colab-df-quickchart {\n",
              "    background-color: var(--bg-color);\n",
              "    border: none;\n",
              "    border-radius: 50%;\n",
              "    cursor: pointer;\n",
              "    display: none;\n",
              "    fill: var(--fill-color);\n",
              "    height: 32px;\n",
              "    padding: 0;\n",
              "    width: 32px;\n",
              "  }\n",
              "\n",
              "  .colab-df-quickchart:hover {\n",
              "    background-color: var(--hover-bg-color);\n",
              "    box-shadow: 0 1px 2px rgba(60, 64, 67, 0.3), 0 1px 3px 1px rgba(60, 64, 67, 0.15);\n",
              "    fill: var(--button-hover-fill-color);\n",
              "  }\n",
              "\n",
              "  .colab-df-quickchart-complete:disabled,\n",
              "  .colab-df-quickchart-complete:disabled:hover {\n",
              "    background-color: var(--disabled-bg-color);\n",
              "    fill: var(--disabled-fill-color);\n",
              "    box-shadow: none;\n",
              "  }\n",
              "\n",
              "  .colab-df-spinner {\n",
              "    border: 2px solid var(--fill-color);\n",
              "    border-color: transparent;\n",
              "    border-bottom-color: var(--fill-color);\n",
              "    animation:\n",
              "      spin 1s steps(1) infinite;\n",
              "  }\n",
              "\n",
              "  @keyframes spin {\n",
              "    0% {\n",
              "      border-color: transparent;\n",
              "      border-bottom-color: var(--fill-color);\n",
              "      border-left-color: var(--fill-color);\n",
              "    }\n",
              "    20% {\n",
              "      border-color: transparent;\n",
              "      border-left-color: var(--fill-color);\n",
              "      border-top-color: var(--fill-color);\n",
              "    }\n",
              "    30% {\n",
              "      border-color: transparent;\n",
              "      border-left-color: var(--fill-color);\n",
              "      border-top-color: var(--fill-color);\n",
              "      border-right-color: var(--fill-color);\n",
              "    }\n",
              "    40% {\n",
              "      border-color: transparent;\n",
              "      border-right-color: var(--fill-color);\n",
              "      border-top-color: var(--fill-color);\n",
              "    }\n",
              "    60% {\n",
              "      border-color: transparent;\n",
              "      border-right-color: var(--fill-color);\n",
              "    }\n",
              "    80% {\n",
              "      border-color: transparent;\n",
              "      border-right-color: var(--fill-color);\n",
              "      border-bottom-color: var(--fill-color);\n",
              "    }\n",
              "    90% {\n",
              "      border-color: transparent;\n",
              "      border-bottom-color: var(--fill-color);\n",
              "    }\n",
              "  }\n",
              "</style>\n",
              "\n",
              "  <script>\n",
              "    async function quickchart(key) {\n",
              "      const quickchartButtonEl =\n",
              "        document.querySelector('#' + key + ' button');\n",
              "      quickchartButtonEl.disabled = true;  // To prevent multiple clicks.\n",
              "      quickchartButtonEl.classList.add('colab-df-spinner');\n",
              "      try {\n",
              "        const charts = await google.colab.kernel.invokeFunction(\n",
              "            'suggestCharts', [key], {});\n",
              "      } catch (error) {\n",
              "        console.error('Error during call to suggestCharts:', error);\n",
              "      }\n",
              "      quickchartButtonEl.classList.remove('colab-df-spinner');\n",
              "      quickchartButtonEl.classList.add('colab-df-quickchart-complete');\n",
              "    }\n",
              "    (() => {\n",
              "      let quickchartButtonEl =\n",
              "        document.querySelector('#df-e47ecbc8-31e2-4726-af29-c20e373b6aaf button');\n",
              "      quickchartButtonEl.style.display =\n",
              "        google.colab.kernel.accessAllowed ? 'block' : 'none';\n",
              "    })();\n",
              "  </script>\n",
              "</div>\n",
              "    </div>\n",
              "  </div>\n"
            ],
            "application/vnd.google.colaboratory.intrinsic+json": {
              "type": "dataframe",
              "variable_name": "data"
            }
          },
          "metadata": {},
          "execution_count": 8
        }
      ]
    },
    {
      "cell_type": "code",
      "source": [
        "X = data.drop('Diabetes_binary', axis=1)\n",
        "y = data['Diabetes_binary'].values.reshape((-1,1))"
      ],
      "metadata": {
        "id": "QmLbIPHZTXtP"
      },
      "execution_count": null,
      "outputs": []
    },
    {
      "cell_type": "code",
      "source": [
        "print(X.shape)\n",
        "print(y.shape)"
      ],
      "metadata": {
        "id": "TZNlhy3gXFPM",
        "colab": {
          "base_uri": "https://localhost:8080/"
        },
        "outputId": "cd0f8a12-eb9a-427a-cfc7-2e6346418827"
      },
      "execution_count": null,
      "outputs": [
        {
          "output_type": "stream",
          "name": "stdout",
          "text": [
            "(20000, 21)\n",
            "(20000, 1)\n"
          ]
        }
      ]
    },
    {
      "cell_type": "code",
      "source": [
        "X = sm.add_constant(X)\n",
        "print(X)"
      ],
      "metadata": {
        "id": "5-waY_W6fHiM",
        "colab": {
          "base_uri": "https://localhost:8080/"
        },
        "outputId": "56555b65-7917-4268-fb2b-97264ca11aaf"
      },
      "execution_count": null,
      "outputs": [
        {
          "output_type": "stream",
          "name": "stdout",
          "text": [
            "       const  HighBP  HighChol  CholCheck      BMI  Smoker  Stroke  \\\n",
            "0        1.0     0.0       1.0        1.0  0.56250     1.0     0.0   \n",
            "1        1.0     0.0       0.0        1.0  0.50000     0.0     0.0   \n",
            "2        1.0     1.0       1.0        1.0  0.34375     1.0     1.0   \n",
            "3        1.0     0.0       0.0        1.0  0.37500     1.0     0.0   \n",
            "4        1.0     0.0       0.0        1.0  0.43750     1.0     0.0   \n",
            "...      ...     ...       ...        ...      ...     ...     ...   \n",
            "19995    1.0     1.0       1.0        1.0  0.84375     1.0     0.0   \n",
            "19996    1.0     0.0       0.0        1.0  0.34375     0.0     0.0   \n",
            "19997    1.0     1.0       0.0        1.0  0.78125     1.0     0.0   \n",
            "19998    1.0     1.0       1.0        1.0  0.43750     1.0     0.0   \n",
            "19999    1.0     1.0       1.0        1.0  0.87500     1.0     0.0   \n",
            "\n",
            "       HeartDiseaseorAttack  PhysActivity  Fruits  ...  AnyHealthcare  \\\n",
            "0                       0.0           1.0     1.0  ...            1.0   \n",
            "1                       0.0           1.0     0.0  ...            1.0   \n",
            "2                       0.0           1.0     1.0  ...            1.0   \n",
            "3                       0.0           1.0     0.0  ...            1.0   \n",
            "4                       0.0           0.0     1.0  ...            1.0   \n",
            "...                     ...           ...     ...  ...            ...   \n",
            "19995                   0.0           0.0     1.0  ...            1.0   \n",
            "19996                   0.0           1.0     1.0  ...            1.0   \n",
            "19997                   0.0           0.0     1.0  ...            1.0   \n",
            "19998                   1.0           1.0     1.0  ...            1.0   \n",
            "19999                   1.0           1.0     1.0  ...            1.0   \n",
            "\n",
            "       NoDocbcCost  GenHlth  MentHlth  PhysHlth  DiffWalk  Sex   Age  \\\n",
            "0              0.0      3.0       0.0       0.0       0.0  0.0   7.0   \n",
            "1              0.0      3.0       0.0       0.0       0.0  0.0   7.0   \n",
            "2              0.0      1.0       0.0       0.0       0.0  0.0   9.0   \n",
            "3              0.0      3.0       0.4       0.0       0.0  1.0   2.0   \n",
            "4              0.0      2.0       0.0       0.0       0.0  0.0  13.0   \n",
            "...            ...      ...       ...       ...       ...  ...   ...   \n",
            "19995          1.0      2.0       0.0       0.0       1.0  0.0  10.0   \n",
            "19996          0.0      3.0       0.0       0.0       0.0  1.0  13.0   \n",
            "19997          0.0      3.0       0.0       0.0       1.0  0.0  13.0   \n",
            "19998          0.0      3.0       0.0       0.0       0.0  1.0  10.0   \n",
            "19999          0.0      4.0       0.0       0.2       0.0  1.0   8.0   \n",
            "\n",
            "       Education  Income  \n",
            "0            5.0     8.0  \n",
            "1            6.0     7.0  \n",
            "2            6.0     6.0  \n",
            "3            6.0     7.0  \n",
            "4            4.0     4.0  \n",
            "...          ...     ...  \n",
            "19995        3.0     4.0  \n",
            "19996        6.0     8.0  \n",
            "19997        2.0     4.0  \n",
            "19998        4.0     6.0  \n",
            "19999        3.0     3.0  \n",
            "\n",
            "[20000 rows x 22 columns]\n"
          ]
        }
      ]
    },
    {
      "cell_type": "code",
      "source": [
        "model = sm.OLS(y, X)   # OLS = Ordinary Least Squares, NOTE, X is 2nd argument\n",
        "\n",
        "results = model.fit()"
      ],
      "metadata": {
        "id": "a7MVQlCnfKv8"
      },
      "execution_count": null,
      "outputs": []
    },
    {
      "cell_type": "code",
      "source": [
        "print(results.summary())"
      ],
      "metadata": {
        "id": "zVWS5d4gfNa1",
        "colab": {
          "base_uri": "https://localhost:8080/"
        },
        "outputId": "a0ab28e2-c234-454e-f643-5de43add475d"
      },
      "execution_count": null,
      "outputs": [
        {
          "output_type": "stream",
          "name": "stdout",
          "text": [
            "                            OLS Regression Results                            \n",
            "==============================================================================\n",
            "Dep. Variable:                      y   R-squared:                       0.313\n",
            "Model:                            OLS   Adj. R-squared:                  0.312\n",
            "Method:                 Least Squares   F-statistic:                     433.3\n",
            "Date:                Thu, 29 Feb 2024   Prob (F-statistic):               0.00\n",
            "Time:                        00:13:12   Log-Likelihood:                -10763.\n",
            "No. Observations:               20000   AIC:                         2.157e+04\n",
            "Df Residuals:                   19978   BIC:                         2.174e+04\n",
            "Df Model:                          21                                         \n",
            "Covariance Type:            nonrobust                                         \n",
            "========================================================================================\n",
            "                           coef    std err          t      P>|t|      [0.025      0.975]\n",
            "----------------------------------------------------------------------------------------\n",
            "const                   -0.5050      0.032    -15.951      0.000      -0.567      -0.443\n",
            "HighBP                   0.1656      0.007     24.163      0.000       0.152       0.179\n",
            "HighChol                 0.0887      0.006     13.952      0.000       0.076       0.101\n",
            "CholCheck                0.1803      0.019      9.310      0.000       0.142       0.218\n",
            "BMI                      0.5004      0.018     27.253      0.000       0.464       0.536\n",
            "Smoker                  -0.0040      0.006     -0.656      0.512      -0.016       0.008\n",
            "Stroke                   0.0305      0.014      2.129      0.033       0.002       0.059\n",
            "HeartDiseaseorAttack     0.0513      0.010      5.372      0.000       0.033       0.070\n",
            "PhysActivity             0.0027      0.007      0.372      0.710      -0.011       0.017\n",
            "Fruits                  -0.0126      0.006     -1.978      0.048      -0.025      -0.000\n",
            "Veggies                 -0.0060      0.008     -0.774      0.439      -0.021       0.009\n",
            "HvyAlcoholConsump       -0.1213      0.015     -8.130      0.000      -0.151      -0.092\n",
            "AnyHealthcare            0.0048      0.015      0.318      0.751      -0.025       0.035\n",
            "NoDocbcCost              0.0106      0.013      0.843      0.399      -0.014       0.035\n",
            "GenHlth                  0.1180      0.004     31.959      0.000       0.111       0.125\n",
            "MentHlth                -0.0328      0.012     -2.673      0.008      -0.057      -0.009\n",
            "PhysHlth                -0.0372      0.014     -2.605      0.009      -0.065      -0.009\n",
            "DiffWalk                 0.0193      0.009      2.113      0.035       0.001       0.037\n",
            "Sex                      0.0462      0.006      7.506      0.000       0.034       0.058\n",
            "Age                      0.0271      0.001     22.733      0.000       0.025       0.029\n",
            "Education               -0.0084      0.003     -2.496      0.013      -0.015      -0.002\n",
            "Income                  -0.0111      0.002     -6.371      0.000      -0.015      -0.008\n",
            "==============================================================================\n",
            "Omnibus:                     2225.251   Durbin-Watson:                   0.624\n",
            "Prob(Omnibus):                  0.000   Jarque-Bera (JB):              692.206\n",
            "Skew:                          -0.167   Prob(JB):                    4.89e-151\n",
            "Kurtosis:                       2.152   Cond. No.                         145.\n",
            "==============================================================================\n",
            "\n",
            "Notes:\n",
            "[1] Standard Errors assume that the covariance matrix of the errors is correctly specified.\n"
          ]
        }
      ]
    },
    {
      "cell_type": "code",
      "source": [
        "print(f\"coefficient of determination: {results.rsquared}\")\n",
        "print(f\"adjusted coefficient of determination: {results.rsquared_adj}\")\n",
        "print(f\"regression coefficients: {results.params}\")"
      ],
      "metadata": {
        "id": "LiR5YizGfQPP",
        "colab": {
          "base_uri": "https://localhost:8080/"
        },
        "outputId": "bcfbea18-bc14-4458-a083-c31d45311d7c"
      },
      "execution_count": null,
      "outputs": [
        {
          "output_type": "stream",
          "name": "stdout",
          "text": [
            "coefficient of determination: 0.31292345861872295\n",
            "adjusted coefficient of determination: 0.31220123380297526\n",
            "regression coefficients: const                  -0.505021\n",
            "HighBP                  0.165571\n",
            "HighChol                0.088652\n",
            "CholCheck               0.180288\n",
            "BMI                     0.500407\n",
            "Smoker                 -0.004014\n",
            "Stroke                  0.030508\n",
            "HeartDiseaseorAttack    0.051265\n",
            "PhysActivity            0.002681\n",
            "Fruits                 -0.012551\n",
            "Veggies                -0.005976\n",
            "HvyAlcoholConsump      -0.121292\n",
            "AnyHealthcare           0.004815\n",
            "NoDocbcCost             0.010568\n",
            "GenHlth                 0.118001\n",
            "MentHlth               -0.032809\n",
            "PhysHlth               -0.037163\n",
            "DiffWalk                0.019295\n",
            "Sex                     0.046239\n",
            "Age                     0.027101\n",
            "Education              -0.008371\n",
            "Income                 -0.011107\n",
            "dtype: float64\n"
          ]
        }
      ]
    },
    {
      "cell_type": "code",
      "source": [
        "print(f\"predicted response:\\n{results.fittedvalues}\")\n",
        "print(f\"predicted response:\\n{results.predict(X)}\")"
      ],
      "metadata": {
        "id": "6yB9mQ4DfUQh",
        "colab": {
          "base_uri": "https://localhost:8080/"
        },
        "outputId": "d557df1d-b8ea-42fc-c770-5f884d87e546"
      },
      "execution_count": null,
      "outputs": [
        {
          "output_type": "stream",
          "name": "stdout",
          "text": [
            "predicted response:\n",
            "0        0.443346\n",
            "1        0.342720\n",
            "2        0.246688\n",
            "3        0.173768\n",
            "4        0.386865\n",
            "           ...   \n",
            "19995    0.801309\n",
            "19996    0.449716\n",
            "19997    0.878489\n",
            "19998    0.755757\n",
            "19999    1.072745\n",
            "Length: 20000, dtype: float64\n",
            "predicted response:\n",
            "0        0.443346\n",
            "1        0.342720\n",
            "2        0.246688\n",
            "3        0.173768\n",
            "4        0.386865\n",
            "           ...   \n",
            "19995    0.801309\n",
            "19996    0.449716\n",
            "19997    0.878489\n",
            "19998    0.755757\n",
            "19999    1.072745\n",
            "Length: 20000, dtype: float64\n"
          ]
        }
      ]
    },
    {
      "cell_type": "markdown",
      "source": [
        "**Conclusion**\n",
        "\n",
        "Using Advanced Linear Regression with statsmodel to fit predictors (independent variable) and y (dependent variable).\n",
        "\n",
        "*   HighBP, HighChol, CholCheck, BMI, Smoker, Stroke, HeartDiseaseorAttack, PhysActivity, Fruits, Veggies, HvyAlcoholConsump, AnyHealthcare, NoDocbcCost, GenHlth, MentHlth, PhysHlth, DiffWalk, Sex, Age, Education, Income: These are the coefficients for each respective independent variable.\n",
        "*   R-squared is 0.313, which means that approximately 31.3% of the variability in the dependent variable is explained by the independent variables in the model.\n",
        "\n",
        "*   the Adjusted R-squared is slightly lower than R-squared, at 0.312.\n",
        "\n",
        "Based on the output provided includes the predicted responses generated by a regression model, which estimates the values of the dependent variable (y) based on the independent variables (X). Each predicted response represents the model's estimation of the dependent variable for each observation in the dataset. These predictions are derived from the coefficients obtained through the regression analysis, reflecting how well the model fits the observed data and allowing for comparison with the actual values of the dependent variable to assess the model's accuracy and performance.\n",
        "\n",
        "\n",
        "\n"
      ],
      "metadata": {
        "id": "Enr42rE9Ok4K"
      }
    },
    {
      "cell_type": "markdown",
      "source": [
        "# **LOGICAL REGRESSION**"
      ],
      "metadata": {
        "id": "woeZ-GfjBvoM"
      }
    },
    {
      "cell_type": "code",
      "source": [
        "# Separate features and target variable\n",
        "X = dataset.drop('Diabetes_binary', axis=1)\n",
        "y = dataset['Diabetes_binary']\n",
        "\n",
        "# Splitting the data into training and testing sets\n",
        "X_train, X_test, y_train, y_test = train_test_split(X, y, test_size=0.2, random_state=42)\n",
        "\n",
        "# Standardizing the features\n",
        "scaler = StandardScaler()\n",
        "X_train_scaled = scaler.fit_transform(X_train)\n",
        "X_test_scaled = scaler.transform(X_test)\n",
        "\n",
        "# Logistic Regression model\n",
        "logistic_model = LogisticRegression()\n",
        "logistic_model.fit(X_train_scaled, y_train)\n",
        "\n",
        "# Making predictions\n",
        "y_pred = logistic_model.predict(X_test_scaled)\n",
        "\n",
        "# Evaluating the model\n",
        "accuracy = accuracy_score(y_test, y_pred)\n",
        "print(\"Accuracy:\", accuracy)\n",
        "print(\"Classification Report:\\n\", classification_report(y_test, y_pred))\n",
        "print(\"Confusion Matrix:\\n\", confusion_matrix(y_test, y_pred))"
      ],
      "metadata": {
        "colab": {
          "base_uri": "https://localhost:8080/"
        },
        "id": "teulJnduB6EB",
        "outputId": "afe6c503-0460-4241-e02f-230af77ea79d"
      },
      "execution_count": null,
      "outputs": [
        {
          "output_type": "stream",
          "name": "stdout",
          "text": [
            "Accuracy: 0.744\n",
            "Classification Report:\n",
            "               precision    recall  f1-score   support\n",
            "\n",
            "         0.0       0.76      0.71      0.74      2019\n",
            "         1.0       0.73      0.77      0.75      1981\n",
            "\n",
            "    accuracy                           0.74      4000\n",
            "   macro avg       0.74      0.74      0.74      4000\n",
            "weighted avg       0.75      0.74      0.74      4000\n",
            "\n",
            "Confusion Matrix:\n",
            " [[1443  576]\n",
            " [ 448 1533]]\n"
          ]
        }
      ]
    },
    {
      "cell_type": "markdown",
      "source": [
        "# *Conclusion For Logistic Regression*\n",
        "\n",
        "1.   **Model Accuracy**\n",
        "*   The logistic regression model achieved an accuracy of 0.744, indicating that it correctly predicted the diabetes status for 74.4% of the samples in the test dataset.\n",
        "\n",
        "2.   **Model Performance**\n",
        "*  The classification report provides a detailed overview of the model's performance for each class ('Without Diabetes' and 'With Diabetes'), including precision, recall, and F1-score. These metrics measure the model's ability to correctly identify positive and negative cases of diabetes.\n",
        "*   Precision: The proportion of true positive predictions among all positive predictions.\n",
        "*   Recall: The proportion of true positive predictions among all actual positive cases.\n",
        "*   F1-score: The harmonic mean of precision and recall, providing a balanced measure of the model's performance.\n",
        "\n",
        "3.  **Interpretation**\n",
        "*   Based on the model's performance metrics and visualizations, it appears that the logistic regression model is reasonably effective in predicting diabetes status based on the provided features.\n",
        "*   However, further analysis and refinement may be needed to improve the model's accuracy and robustness, such as feature engineering, parameter tuning, or exploring alternative algorithms.\n",
        "\n",
        "4.   **Recommendations**\n",
        "*   Consider exploring additional feature engineering techniques to enhance the predictive power of the model.\n",
        "*   Experiment with different machine learning algorithms and hyperparameters to find the optimal model configuration.EX:Random Forests,Gradient Boosting,etc.\n",
        "*   Collecting more data or incorporating domain knowledge may also improve the model's performance and generalizability.\n",
        "\n",
        "\n",
        "\n",
        "\n",
        "\n",
        "\n",
        "\n",
        "\n",
        "\n",
        "\n",
        "\n",
        "\n"
      ],
      "metadata": {
        "id": "aL77FO1aTZLH"
      }
    }
  ]
}